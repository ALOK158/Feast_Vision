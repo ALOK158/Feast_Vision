{
  "nbformat": 4,
  "nbformat_minor": 0,
  "metadata": {
    "colab": {
      "provenance": [],
      "gpuType": "V28",
      "authorship_tag": "ABX9TyO/uKM/rCVSi8JH09MqyFWm",
      "include_colab_link": true
    },
    "kernelspec": {
      "name": "python3",
      "display_name": "Python 3"
    },
    "language_info": {
      "name": "python"
    },
    "widgets": {
      "application/vnd.jupyter.widget-state+json": {
        "5988a1b9b3884fd8937523494ccf22a4": {
          "model_module": "@jupyter-widgets/controls",
          "model_name": "HBoxModel",
          "model_module_version": "1.5.0",
          "state": {
            "_dom_classes": [],
            "_model_module": "@jupyter-widgets/controls",
            "_model_module_version": "1.5.0",
            "_model_name": "HBoxModel",
            "_view_count": null,
            "_view_module": "@jupyter-widgets/controls",
            "_view_module_version": "1.5.0",
            "_view_name": "HBoxView",
            "box_style": "",
            "children": [
              "IPY_MODEL_0371d645e8354236b9b5015adff284da",
              "IPY_MODEL_023166cfa5f244ec87bf62a4668744ca",
              "IPY_MODEL_09d1efc637214a48bc9285c61ccd57ec"
            ],
            "layout": "IPY_MODEL_c8490994051046188ad7da9d27a4c701"
          }
        },
        "0371d645e8354236b9b5015adff284da": {
          "model_module": "@jupyter-widgets/controls",
          "model_name": "HTMLModel",
          "model_module_version": "1.5.0",
          "state": {
            "_dom_classes": [],
            "_model_module": "@jupyter-widgets/controls",
            "_model_module_version": "1.5.0",
            "_model_name": "HTMLModel",
            "_view_count": null,
            "_view_module": "@jupyter-widgets/controls",
            "_view_module_version": "1.5.0",
            "_view_name": "HTMLView",
            "description": "",
            "description_tooltip": null,
            "layout": "IPY_MODEL_3e3d817cc5e24a669e3d099d2388e4c5",
            "placeholder": "​",
            "style": "IPY_MODEL_f418bcf669d64ad1994805365bca908d",
            "value": "Dl Completed...: 100%"
          }
        },
        "023166cfa5f244ec87bf62a4668744ca": {
          "model_module": "@jupyter-widgets/controls",
          "model_name": "FloatProgressModel",
          "model_module_version": "1.5.0",
          "state": {
            "_dom_classes": [],
            "_model_module": "@jupyter-widgets/controls",
            "_model_module_version": "1.5.0",
            "_model_name": "FloatProgressModel",
            "_view_count": null,
            "_view_module": "@jupyter-widgets/controls",
            "_view_module_version": "1.5.0",
            "_view_name": "ProgressView",
            "bar_style": "success",
            "description": "",
            "description_tooltip": null,
            "layout": "IPY_MODEL_295ba41f2c57442eab48f0d39d0146f7",
            "max": 1,
            "min": 0,
            "orientation": "horizontal",
            "style": "IPY_MODEL_713a9430f1df4f89a19c392c03f95b84",
            "value": 1
          }
        },
        "09d1efc637214a48bc9285c61ccd57ec": {
          "model_module": "@jupyter-widgets/controls",
          "model_name": "HTMLModel",
          "model_module_version": "1.5.0",
          "state": {
            "_dom_classes": [],
            "_model_module": "@jupyter-widgets/controls",
            "_model_module_version": "1.5.0",
            "_model_name": "HTMLModel",
            "_view_count": null,
            "_view_module": "@jupyter-widgets/controls",
            "_view_module_version": "1.5.0",
            "_view_name": "HTMLView",
            "description": "",
            "description_tooltip": null,
            "layout": "IPY_MODEL_316594926eb54420969f2ffce0120431",
            "placeholder": "​",
            "style": "IPY_MODEL_9fd62fd15f7344128dcbf2366e1586d0",
            "value": " 1/1 [06:35&lt;00:00, 229.15s/ url]"
          }
        },
        "c8490994051046188ad7da9d27a4c701": {
          "model_module": "@jupyter-widgets/base",
          "model_name": "LayoutModel",
          "model_module_version": "1.2.0",
          "state": {
            "_model_module": "@jupyter-widgets/base",
            "_model_module_version": "1.2.0",
            "_model_name": "LayoutModel",
            "_view_count": null,
            "_view_module": "@jupyter-widgets/base",
            "_view_module_version": "1.2.0",
            "_view_name": "LayoutView",
            "align_content": null,
            "align_items": null,
            "align_self": null,
            "border": null,
            "bottom": null,
            "display": null,
            "flex": null,
            "flex_flow": null,
            "grid_area": null,
            "grid_auto_columns": null,
            "grid_auto_flow": null,
            "grid_auto_rows": null,
            "grid_column": null,
            "grid_gap": null,
            "grid_row": null,
            "grid_template_areas": null,
            "grid_template_columns": null,
            "grid_template_rows": null,
            "height": null,
            "justify_content": null,
            "justify_items": null,
            "left": null,
            "margin": null,
            "max_height": null,
            "max_width": null,
            "min_height": null,
            "min_width": null,
            "object_fit": null,
            "object_position": null,
            "order": null,
            "overflow": null,
            "overflow_x": null,
            "overflow_y": null,
            "padding": null,
            "right": null,
            "top": null,
            "visibility": null,
            "width": null
          }
        },
        "3e3d817cc5e24a669e3d099d2388e4c5": {
          "model_module": "@jupyter-widgets/base",
          "model_name": "LayoutModel",
          "model_module_version": "1.2.0",
          "state": {
            "_model_module": "@jupyter-widgets/base",
            "_model_module_version": "1.2.0",
            "_model_name": "LayoutModel",
            "_view_count": null,
            "_view_module": "@jupyter-widgets/base",
            "_view_module_version": "1.2.0",
            "_view_name": "LayoutView",
            "align_content": null,
            "align_items": null,
            "align_self": null,
            "border": null,
            "bottom": null,
            "display": null,
            "flex": null,
            "flex_flow": null,
            "grid_area": null,
            "grid_auto_columns": null,
            "grid_auto_flow": null,
            "grid_auto_rows": null,
            "grid_column": null,
            "grid_gap": null,
            "grid_row": null,
            "grid_template_areas": null,
            "grid_template_columns": null,
            "grid_template_rows": null,
            "height": null,
            "justify_content": null,
            "justify_items": null,
            "left": null,
            "margin": null,
            "max_height": null,
            "max_width": null,
            "min_height": null,
            "min_width": null,
            "object_fit": null,
            "object_position": null,
            "order": null,
            "overflow": null,
            "overflow_x": null,
            "overflow_y": null,
            "padding": null,
            "right": null,
            "top": null,
            "visibility": null,
            "width": null
          }
        },
        "f418bcf669d64ad1994805365bca908d": {
          "model_module": "@jupyter-widgets/controls",
          "model_name": "DescriptionStyleModel",
          "model_module_version": "1.5.0",
          "state": {
            "_model_module": "@jupyter-widgets/controls",
            "_model_module_version": "1.5.0",
            "_model_name": "DescriptionStyleModel",
            "_view_count": null,
            "_view_module": "@jupyter-widgets/base",
            "_view_module_version": "1.2.0",
            "_view_name": "StyleView",
            "description_width": ""
          }
        },
        "295ba41f2c57442eab48f0d39d0146f7": {
          "model_module": "@jupyter-widgets/base",
          "model_name": "LayoutModel",
          "model_module_version": "1.2.0",
          "state": {
            "_model_module": "@jupyter-widgets/base",
            "_model_module_version": "1.2.0",
            "_model_name": "LayoutModel",
            "_view_count": null,
            "_view_module": "@jupyter-widgets/base",
            "_view_module_version": "1.2.0",
            "_view_name": "LayoutView",
            "align_content": null,
            "align_items": null,
            "align_self": null,
            "border": null,
            "bottom": null,
            "display": null,
            "flex": null,
            "flex_flow": null,
            "grid_area": null,
            "grid_auto_columns": null,
            "grid_auto_flow": null,
            "grid_auto_rows": null,
            "grid_column": null,
            "grid_gap": null,
            "grid_row": null,
            "grid_template_areas": null,
            "grid_template_columns": null,
            "grid_template_rows": null,
            "height": null,
            "justify_content": null,
            "justify_items": null,
            "left": null,
            "margin": null,
            "max_height": null,
            "max_width": null,
            "min_height": null,
            "min_width": null,
            "object_fit": null,
            "object_position": null,
            "order": null,
            "overflow": null,
            "overflow_x": null,
            "overflow_y": null,
            "padding": null,
            "right": null,
            "top": null,
            "visibility": null,
            "width": "20px"
          }
        },
        "713a9430f1df4f89a19c392c03f95b84": {
          "model_module": "@jupyter-widgets/controls",
          "model_name": "ProgressStyleModel",
          "model_module_version": "1.5.0",
          "state": {
            "_model_module": "@jupyter-widgets/controls",
            "_model_module_version": "1.5.0",
            "_model_name": "ProgressStyleModel",
            "_view_count": null,
            "_view_module": "@jupyter-widgets/base",
            "_view_module_version": "1.2.0",
            "_view_name": "StyleView",
            "bar_color": null,
            "description_width": ""
          }
        },
        "316594926eb54420969f2ffce0120431": {
          "model_module": "@jupyter-widgets/base",
          "model_name": "LayoutModel",
          "model_module_version": "1.2.0",
          "state": {
            "_model_module": "@jupyter-widgets/base",
            "_model_module_version": "1.2.0",
            "_model_name": "LayoutModel",
            "_view_count": null,
            "_view_module": "@jupyter-widgets/base",
            "_view_module_version": "1.2.0",
            "_view_name": "LayoutView",
            "align_content": null,
            "align_items": null,
            "align_self": null,
            "border": null,
            "bottom": null,
            "display": null,
            "flex": null,
            "flex_flow": null,
            "grid_area": null,
            "grid_auto_columns": null,
            "grid_auto_flow": null,
            "grid_auto_rows": null,
            "grid_column": null,
            "grid_gap": null,
            "grid_row": null,
            "grid_template_areas": null,
            "grid_template_columns": null,
            "grid_template_rows": null,
            "height": null,
            "justify_content": null,
            "justify_items": null,
            "left": null,
            "margin": null,
            "max_height": null,
            "max_width": null,
            "min_height": null,
            "min_width": null,
            "object_fit": null,
            "object_position": null,
            "order": null,
            "overflow": null,
            "overflow_x": null,
            "overflow_y": null,
            "padding": null,
            "right": null,
            "top": null,
            "visibility": null,
            "width": null
          }
        },
        "9fd62fd15f7344128dcbf2366e1586d0": {
          "model_module": "@jupyter-widgets/controls",
          "model_name": "DescriptionStyleModel",
          "model_module_version": "1.5.0",
          "state": {
            "_model_module": "@jupyter-widgets/controls",
            "_model_module_version": "1.5.0",
            "_model_name": "DescriptionStyleModel",
            "_view_count": null,
            "_view_module": "@jupyter-widgets/base",
            "_view_module_version": "1.2.0",
            "_view_name": "StyleView",
            "description_width": ""
          }
        },
        "0cc8ad82efb54d06800f47480175e499": {
          "model_module": "@jupyter-widgets/controls",
          "model_name": "HBoxModel",
          "model_module_version": "1.5.0",
          "state": {
            "_dom_classes": [],
            "_model_module": "@jupyter-widgets/controls",
            "_model_module_version": "1.5.0",
            "_model_name": "HBoxModel",
            "_view_count": null,
            "_view_module": "@jupyter-widgets/controls",
            "_view_module_version": "1.5.0",
            "_view_name": "HBoxView",
            "box_style": "",
            "children": [
              "IPY_MODEL_ede3e152c583480d8618094d573bd3f8",
              "IPY_MODEL_f9b7154bbe4a4a74ab1a1088f3cf9466",
              "IPY_MODEL_e18da313a3e5402bbb407e9b891f2146"
            ],
            "layout": "IPY_MODEL_5a938c56ad9545cfa6208f4dccc519b3"
          }
        },
        "ede3e152c583480d8618094d573bd3f8": {
          "model_module": "@jupyter-widgets/controls",
          "model_name": "HTMLModel",
          "model_module_version": "1.5.0",
          "state": {
            "_dom_classes": [],
            "_model_module": "@jupyter-widgets/controls",
            "_model_module_version": "1.5.0",
            "_model_name": "HTMLModel",
            "_view_count": null,
            "_view_module": "@jupyter-widgets/controls",
            "_view_module_version": "1.5.0",
            "_view_name": "HTMLView",
            "description": "",
            "description_tooltip": null,
            "layout": "IPY_MODEL_de0a57d53b094fdbb6fc57a3185e1f5b",
            "placeholder": "​",
            "style": "IPY_MODEL_48ccf82f8cdf4c7c9ee04bff6869a0a2",
            "value": "Dl Size...: 100%"
          }
        },
        "f9b7154bbe4a4a74ab1a1088f3cf9466": {
          "model_module": "@jupyter-widgets/controls",
          "model_name": "FloatProgressModel",
          "model_module_version": "1.5.0",
          "state": {
            "_dom_classes": [],
            "_model_module": "@jupyter-widgets/controls",
            "_model_module_version": "1.5.0",
            "_model_name": "FloatProgressModel",
            "_view_count": null,
            "_view_module": "@jupyter-widgets/controls",
            "_view_module_version": "1.5.0",
            "_view_name": "ProgressView",
            "bar_style": "success",
            "description": "",
            "description_tooltip": null,
            "layout": "IPY_MODEL_435a2803c3d7482dab5576cbf8a4ea7f",
            "max": 1,
            "min": 0,
            "orientation": "horizontal",
            "style": "IPY_MODEL_bc8a933a02564820bcd8bb804b6d1b53",
            "value": 1
          }
        },
        "e18da313a3e5402bbb407e9b891f2146": {
          "model_module": "@jupyter-widgets/controls",
          "model_name": "HTMLModel",
          "model_module_version": "1.5.0",
          "state": {
            "_dom_classes": [],
            "_model_module": "@jupyter-widgets/controls",
            "_model_module_version": "1.5.0",
            "_model_name": "HTMLModel",
            "_view_count": null,
            "_view_module": "@jupyter-widgets/controls",
            "_view_module_version": "1.5.0",
            "_view_name": "HTMLView",
            "description": "",
            "description_tooltip": null,
            "layout": "IPY_MODEL_58774465ef42411d996c0d70329b6652",
            "placeholder": "​",
            "style": "IPY_MODEL_c00c0e4859ff492393065471a636a63c",
            "value": " 4764/4764 [06:35&lt;00:00, 23.66 MiB/s]"
          }
        },
        "5a938c56ad9545cfa6208f4dccc519b3": {
          "model_module": "@jupyter-widgets/base",
          "model_name": "LayoutModel",
          "model_module_version": "1.2.0",
          "state": {
            "_model_module": "@jupyter-widgets/base",
            "_model_module_version": "1.2.0",
            "_model_name": "LayoutModel",
            "_view_count": null,
            "_view_module": "@jupyter-widgets/base",
            "_view_module_version": "1.2.0",
            "_view_name": "LayoutView",
            "align_content": null,
            "align_items": null,
            "align_self": null,
            "border": null,
            "bottom": null,
            "display": null,
            "flex": null,
            "flex_flow": null,
            "grid_area": null,
            "grid_auto_columns": null,
            "grid_auto_flow": null,
            "grid_auto_rows": null,
            "grid_column": null,
            "grid_gap": null,
            "grid_row": null,
            "grid_template_areas": null,
            "grid_template_columns": null,
            "grid_template_rows": null,
            "height": null,
            "justify_content": null,
            "justify_items": null,
            "left": null,
            "margin": null,
            "max_height": null,
            "max_width": null,
            "min_height": null,
            "min_width": null,
            "object_fit": null,
            "object_position": null,
            "order": null,
            "overflow": null,
            "overflow_x": null,
            "overflow_y": null,
            "padding": null,
            "right": null,
            "top": null,
            "visibility": null,
            "width": null
          }
        },
        "de0a57d53b094fdbb6fc57a3185e1f5b": {
          "model_module": "@jupyter-widgets/base",
          "model_name": "LayoutModel",
          "model_module_version": "1.2.0",
          "state": {
            "_model_module": "@jupyter-widgets/base",
            "_model_module_version": "1.2.0",
            "_model_name": "LayoutModel",
            "_view_count": null,
            "_view_module": "@jupyter-widgets/base",
            "_view_module_version": "1.2.0",
            "_view_name": "LayoutView",
            "align_content": null,
            "align_items": null,
            "align_self": null,
            "border": null,
            "bottom": null,
            "display": null,
            "flex": null,
            "flex_flow": null,
            "grid_area": null,
            "grid_auto_columns": null,
            "grid_auto_flow": null,
            "grid_auto_rows": null,
            "grid_column": null,
            "grid_gap": null,
            "grid_row": null,
            "grid_template_areas": null,
            "grid_template_columns": null,
            "grid_template_rows": null,
            "height": null,
            "justify_content": null,
            "justify_items": null,
            "left": null,
            "margin": null,
            "max_height": null,
            "max_width": null,
            "min_height": null,
            "min_width": null,
            "object_fit": null,
            "object_position": null,
            "order": null,
            "overflow": null,
            "overflow_x": null,
            "overflow_y": null,
            "padding": null,
            "right": null,
            "top": null,
            "visibility": null,
            "width": null
          }
        },
        "48ccf82f8cdf4c7c9ee04bff6869a0a2": {
          "model_module": "@jupyter-widgets/controls",
          "model_name": "DescriptionStyleModel",
          "model_module_version": "1.5.0",
          "state": {
            "_model_module": "@jupyter-widgets/controls",
            "_model_module_version": "1.5.0",
            "_model_name": "DescriptionStyleModel",
            "_view_count": null,
            "_view_module": "@jupyter-widgets/base",
            "_view_module_version": "1.2.0",
            "_view_name": "StyleView",
            "description_width": ""
          }
        },
        "435a2803c3d7482dab5576cbf8a4ea7f": {
          "model_module": "@jupyter-widgets/base",
          "model_name": "LayoutModel",
          "model_module_version": "1.2.0",
          "state": {
            "_model_module": "@jupyter-widgets/base",
            "_model_module_version": "1.2.0",
            "_model_name": "LayoutModel",
            "_view_count": null,
            "_view_module": "@jupyter-widgets/base",
            "_view_module_version": "1.2.0",
            "_view_name": "LayoutView",
            "align_content": null,
            "align_items": null,
            "align_self": null,
            "border": null,
            "bottom": null,
            "display": null,
            "flex": null,
            "flex_flow": null,
            "grid_area": null,
            "grid_auto_columns": null,
            "grid_auto_flow": null,
            "grid_auto_rows": null,
            "grid_column": null,
            "grid_gap": null,
            "grid_row": null,
            "grid_template_areas": null,
            "grid_template_columns": null,
            "grid_template_rows": null,
            "height": null,
            "justify_content": null,
            "justify_items": null,
            "left": null,
            "margin": null,
            "max_height": null,
            "max_width": null,
            "min_height": null,
            "min_width": null,
            "object_fit": null,
            "object_position": null,
            "order": null,
            "overflow": null,
            "overflow_x": null,
            "overflow_y": null,
            "padding": null,
            "right": null,
            "top": null,
            "visibility": null,
            "width": "20px"
          }
        },
        "bc8a933a02564820bcd8bb804b6d1b53": {
          "model_module": "@jupyter-widgets/controls",
          "model_name": "ProgressStyleModel",
          "model_module_version": "1.5.0",
          "state": {
            "_model_module": "@jupyter-widgets/controls",
            "_model_module_version": "1.5.0",
            "_model_name": "ProgressStyleModel",
            "_view_count": null,
            "_view_module": "@jupyter-widgets/base",
            "_view_module_version": "1.2.0",
            "_view_name": "StyleView",
            "bar_color": null,
            "description_width": ""
          }
        },
        "58774465ef42411d996c0d70329b6652": {
          "model_module": "@jupyter-widgets/base",
          "model_name": "LayoutModel",
          "model_module_version": "1.2.0",
          "state": {
            "_model_module": "@jupyter-widgets/base",
            "_model_module_version": "1.2.0",
            "_model_name": "LayoutModel",
            "_view_count": null,
            "_view_module": "@jupyter-widgets/base",
            "_view_module_version": "1.2.0",
            "_view_name": "LayoutView",
            "align_content": null,
            "align_items": null,
            "align_self": null,
            "border": null,
            "bottom": null,
            "display": null,
            "flex": null,
            "flex_flow": null,
            "grid_area": null,
            "grid_auto_columns": null,
            "grid_auto_flow": null,
            "grid_auto_rows": null,
            "grid_column": null,
            "grid_gap": null,
            "grid_row": null,
            "grid_template_areas": null,
            "grid_template_columns": null,
            "grid_template_rows": null,
            "height": null,
            "justify_content": null,
            "justify_items": null,
            "left": null,
            "margin": null,
            "max_height": null,
            "max_width": null,
            "min_height": null,
            "min_width": null,
            "object_fit": null,
            "object_position": null,
            "order": null,
            "overflow": null,
            "overflow_x": null,
            "overflow_y": null,
            "padding": null,
            "right": null,
            "top": null,
            "visibility": null,
            "width": null
          }
        },
        "c00c0e4859ff492393065471a636a63c": {
          "model_module": "@jupyter-widgets/controls",
          "model_name": "DescriptionStyleModel",
          "model_module_version": "1.5.0",
          "state": {
            "_model_module": "@jupyter-widgets/controls",
            "_model_module_version": "1.5.0",
            "_model_name": "DescriptionStyleModel",
            "_view_count": null,
            "_view_module": "@jupyter-widgets/base",
            "_view_module_version": "1.2.0",
            "_view_name": "StyleView",
            "description_width": ""
          }
        },
        "7b90b19a4f7b4d42ae2578074a88aa71": {
          "model_module": "@jupyter-widgets/controls",
          "model_name": "HBoxModel",
          "model_module_version": "1.5.0",
          "state": {
            "_dom_classes": [],
            "_model_module": "@jupyter-widgets/controls",
            "_model_module_version": "1.5.0",
            "_model_name": "HBoxModel",
            "_view_count": null,
            "_view_module": "@jupyter-widgets/controls",
            "_view_module_version": "1.5.0",
            "_view_name": "HBoxView",
            "box_style": "",
            "children": [
              "IPY_MODEL_fe7f8eea727d4afd92641a51f34962df",
              "IPY_MODEL_648e6b76d7ad45df9e643ea22e2cc6a1",
              "IPY_MODEL_73686618aacc478d84f890d1b0e92b9e"
            ],
            "layout": "IPY_MODEL_4eec2553b2f348ce9a733382c9d69c8a"
          }
        },
        "fe7f8eea727d4afd92641a51f34962df": {
          "model_module": "@jupyter-widgets/controls",
          "model_name": "HTMLModel",
          "model_module_version": "1.5.0",
          "state": {
            "_dom_classes": [],
            "_model_module": "@jupyter-widgets/controls",
            "_model_module_version": "1.5.0",
            "_model_name": "HTMLModel",
            "_view_count": null,
            "_view_module": "@jupyter-widgets/controls",
            "_view_module_version": "1.5.0",
            "_view_name": "HTMLView",
            "description": "",
            "description_tooltip": null,
            "layout": "IPY_MODEL_6f13ffc80eda44e0b33d01dfe9078a50",
            "placeholder": "​",
            "style": "IPY_MODEL_ae77b30abd30435f8bbc1d546e87bded",
            "value": "Extraction completed...: 100%"
          }
        },
        "648e6b76d7ad45df9e643ea22e2cc6a1": {
          "model_module": "@jupyter-widgets/controls",
          "model_name": "FloatProgressModel",
          "model_module_version": "1.5.0",
          "state": {
            "_dom_classes": [],
            "_model_module": "@jupyter-widgets/controls",
            "_model_module_version": "1.5.0",
            "_model_name": "FloatProgressModel",
            "_view_count": null,
            "_view_module": "@jupyter-widgets/controls",
            "_view_module_version": "1.5.0",
            "_view_name": "ProgressView",
            "bar_style": "success",
            "description": "",
            "description_tooltip": null,
            "layout": "IPY_MODEL_01fc0da3ab834c69be816b1fd2d51773",
            "max": 1,
            "min": 0,
            "orientation": "horizontal",
            "style": "IPY_MODEL_958c507cde5242628c0934300ad233af",
            "value": 1
          }
        },
        "73686618aacc478d84f890d1b0e92b9e": {
          "model_module": "@jupyter-widgets/controls",
          "model_name": "HTMLModel",
          "model_module_version": "1.5.0",
          "state": {
            "_dom_classes": [],
            "_model_module": "@jupyter-widgets/controls",
            "_model_module_version": "1.5.0",
            "_model_name": "HTMLModel",
            "_view_count": null,
            "_view_module": "@jupyter-widgets/controls",
            "_view_module_version": "1.5.0",
            "_view_name": "HTMLView",
            "description": "",
            "description_tooltip": null,
            "layout": "IPY_MODEL_43a723d9fbc0439b9fa79472d8ea78b4",
            "placeholder": "​",
            "style": "IPY_MODEL_79dd7efceece4cc8afb9a1e2be59ac27",
            "value": " 101008/101008 [06:35&lt;00:00, 4199.26 file/s]"
          }
        },
        "4eec2553b2f348ce9a733382c9d69c8a": {
          "model_module": "@jupyter-widgets/base",
          "model_name": "LayoutModel",
          "model_module_version": "1.2.0",
          "state": {
            "_model_module": "@jupyter-widgets/base",
            "_model_module_version": "1.2.0",
            "_model_name": "LayoutModel",
            "_view_count": null,
            "_view_module": "@jupyter-widgets/base",
            "_view_module_version": "1.2.0",
            "_view_name": "LayoutView",
            "align_content": null,
            "align_items": null,
            "align_self": null,
            "border": null,
            "bottom": null,
            "display": null,
            "flex": null,
            "flex_flow": null,
            "grid_area": null,
            "grid_auto_columns": null,
            "grid_auto_flow": null,
            "grid_auto_rows": null,
            "grid_column": null,
            "grid_gap": null,
            "grid_row": null,
            "grid_template_areas": null,
            "grid_template_columns": null,
            "grid_template_rows": null,
            "height": null,
            "justify_content": null,
            "justify_items": null,
            "left": null,
            "margin": null,
            "max_height": null,
            "max_width": null,
            "min_height": null,
            "min_width": null,
            "object_fit": null,
            "object_position": null,
            "order": null,
            "overflow": null,
            "overflow_x": null,
            "overflow_y": null,
            "padding": null,
            "right": null,
            "top": null,
            "visibility": null,
            "width": null
          }
        },
        "6f13ffc80eda44e0b33d01dfe9078a50": {
          "model_module": "@jupyter-widgets/base",
          "model_name": "LayoutModel",
          "model_module_version": "1.2.0",
          "state": {
            "_model_module": "@jupyter-widgets/base",
            "_model_module_version": "1.2.0",
            "_model_name": "LayoutModel",
            "_view_count": null,
            "_view_module": "@jupyter-widgets/base",
            "_view_module_version": "1.2.0",
            "_view_name": "LayoutView",
            "align_content": null,
            "align_items": null,
            "align_self": null,
            "border": null,
            "bottom": null,
            "display": null,
            "flex": null,
            "flex_flow": null,
            "grid_area": null,
            "grid_auto_columns": null,
            "grid_auto_flow": null,
            "grid_auto_rows": null,
            "grid_column": null,
            "grid_gap": null,
            "grid_row": null,
            "grid_template_areas": null,
            "grid_template_columns": null,
            "grid_template_rows": null,
            "height": null,
            "justify_content": null,
            "justify_items": null,
            "left": null,
            "margin": null,
            "max_height": null,
            "max_width": null,
            "min_height": null,
            "min_width": null,
            "object_fit": null,
            "object_position": null,
            "order": null,
            "overflow": null,
            "overflow_x": null,
            "overflow_y": null,
            "padding": null,
            "right": null,
            "top": null,
            "visibility": null,
            "width": null
          }
        },
        "ae77b30abd30435f8bbc1d546e87bded": {
          "model_module": "@jupyter-widgets/controls",
          "model_name": "DescriptionStyleModel",
          "model_module_version": "1.5.0",
          "state": {
            "_model_module": "@jupyter-widgets/controls",
            "_model_module_version": "1.5.0",
            "_model_name": "DescriptionStyleModel",
            "_view_count": null,
            "_view_module": "@jupyter-widgets/base",
            "_view_module_version": "1.2.0",
            "_view_name": "StyleView",
            "description_width": ""
          }
        },
        "01fc0da3ab834c69be816b1fd2d51773": {
          "model_module": "@jupyter-widgets/base",
          "model_name": "LayoutModel",
          "model_module_version": "1.2.0",
          "state": {
            "_model_module": "@jupyter-widgets/base",
            "_model_module_version": "1.2.0",
            "_model_name": "LayoutModel",
            "_view_count": null,
            "_view_module": "@jupyter-widgets/base",
            "_view_module_version": "1.2.0",
            "_view_name": "LayoutView",
            "align_content": null,
            "align_items": null,
            "align_self": null,
            "border": null,
            "bottom": null,
            "display": null,
            "flex": null,
            "flex_flow": null,
            "grid_area": null,
            "grid_auto_columns": null,
            "grid_auto_flow": null,
            "grid_auto_rows": null,
            "grid_column": null,
            "grid_gap": null,
            "grid_row": null,
            "grid_template_areas": null,
            "grid_template_columns": null,
            "grid_template_rows": null,
            "height": null,
            "justify_content": null,
            "justify_items": null,
            "left": null,
            "margin": null,
            "max_height": null,
            "max_width": null,
            "min_height": null,
            "min_width": null,
            "object_fit": null,
            "object_position": null,
            "order": null,
            "overflow": null,
            "overflow_x": null,
            "overflow_y": null,
            "padding": null,
            "right": null,
            "top": null,
            "visibility": null,
            "width": "20px"
          }
        },
        "958c507cde5242628c0934300ad233af": {
          "model_module": "@jupyter-widgets/controls",
          "model_name": "ProgressStyleModel",
          "model_module_version": "1.5.0",
          "state": {
            "_model_module": "@jupyter-widgets/controls",
            "_model_module_version": "1.5.0",
            "_model_name": "ProgressStyleModel",
            "_view_count": null,
            "_view_module": "@jupyter-widgets/base",
            "_view_module_version": "1.2.0",
            "_view_name": "StyleView",
            "bar_color": null,
            "description_width": ""
          }
        },
        "43a723d9fbc0439b9fa79472d8ea78b4": {
          "model_module": "@jupyter-widgets/base",
          "model_name": "LayoutModel",
          "model_module_version": "1.2.0",
          "state": {
            "_model_module": "@jupyter-widgets/base",
            "_model_module_version": "1.2.0",
            "_model_name": "LayoutModel",
            "_view_count": null,
            "_view_module": "@jupyter-widgets/base",
            "_view_module_version": "1.2.0",
            "_view_name": "LayoutView",
            "align_content": null,
            "align_items": null,
            "align_self": null,
            "border": null,
            "bottom": null,
            "display": null,
            "flex": null,
            "flex_flow": null,
            "grid_area": null,
            "grid_auto_columns": null,
            "grid_auto_flow": null,
            "grid_auto_rows": null,
            "grid_column": null,
            "grid_gap": null,
            "grid_row": null,
            "grid_template_areas": null,
            "grid_template_columns": null,
            "grid_template_rows": null,
            "height": null,
            "justify_content": null,
            "justify_items": null,
            "left": null,
            "margin": null,
            "max_height": null,
            "max_width": null,
            "min_height": null,
            "min_width": null,
            "object_fit": null,
            "object_position": null,
            "order": null,
            "overflow": null,
            "overflow_x": null,
            "overflow_y": null,
            "padding": null,
            "right": null,
            "top": null,
            "visibility": null,
            "width": null
          }
        },
        "79dd7efceece4cc8afb9a1e2be59ac27": {
          "model_module": "@jupyter-widgets/controls",
          "model_name": "DescriptionStyleModel",
          "model_module_version": "1.5.0",
          "state": {
            "_model_module": "@jupyter-widgets/controls",
            "_model_module_version": "1.5.0",
            "_model_name": "DescriptionStyleModel",
            "_view_count": null,
            "_view_module": "@jupyter-widgets/base",
            "_view_module_version": "1.2.0",
            "_view_name": "StyleView",
            "description_width": ""
          }
        },
        "6d998f067fd143e59756b4828651024e": {
          "model_module": "@jupyter-widgets/controls",
          "model_name": "HBoxModel",
          "model_module_version": "1.5.0",
          "state": {
            "_dom_classes": [],
            "_model_module": "@jupyter-widgets/controls",
            "_model_module_version": "1.5.0",
            "_model_name": "HBoxModel",
            "_view_count": null,
            "_view_module": "@jupyter-widgets/controls",
            "_view_module_version": "1.5.0",
            "_view_name": "HBoxView",
            "box_style": "",
            "children": [
              "IPY_MODEL_ce31ed8903914ee4b7f88a42a456d6f7",
              "IPY_MODEL_ada32996041d46559e2e63dbace3bb5e",
              "IPY_MODEL_90c83e56501e4f3b864396627e38882d"
            ],
            "layout": "IPY_MODEL_ac357bb29d4c4aae94de82969224480d"
          }
        },
        "ce31ed8903914ee4b7f88a42a456d6f7": {
          "model_module": "@jupyter-widgets/controls",
          "model_name": "HTMLModel",
          "model_module_version": "1.5.0",
          "state": {
            "_dom_classes": [],
            "_model_module": "@jupyter-widgets/controls",
            "_model_module_version": "1.5.0",
            "_model_name": "HTMLModel",
            "_view_count": null,
            "_view_module": "@jupyter-widgets/controls",
            "_view_module_version": "1.5.0",
            "_view_name": "HTMLView",
            "description": "",
            "description_tooltip": null,
            "layout": "IPY_MODEL_34a23b6c3cbe4d6ea9a984fba8c26a4d",
            "placeholder": "​",
            "style": "IPY_MODEL_eabf3e2bba91447fa4a7b715c29bda54",
            "value": "Generating splits...: 100%"
          }
        },
        "ada32996041d46559e2e63dbace3bb5e": {
          "model_module": "@jupyter-widgets/controls",
          "model_name": "FloatProgressModel",
          "model_module_version": "1.5.0",
          "state": {
            "_dom_classes": [],
            "_model_module": "@jupyter-widgets/controls",
            "_model_module_version": "1.5.0",
            "_model_name": "FloatProgressModel",
            "_view_count": null,
            "_view_module": "@jupyter-widgets/controls",
            "_view_module_version": "1.5.0",
            "_view_name": "ProgressView",
            "bar_style": "",
            "description": "",
            "description_tooltip": null,
            "layout": "IPY_MODEL_502e276df6c04633a2ff845860db7439",
            "max": 2,
            "min": 0,
            "orientation": "horizontal",
            "style": "IPY_MODEL_7f5f2b8f46c64870bb17ed08fbc76640",
            "value": 2
          }
        },
        "90c83e56501e4f3b864396627e38882d": {
          "model_module": "@jupyter-widgets/controls",
          "model_name": "HTMLModel",
          "model_module_version": "1.5.0",
          "state": {
            "_dom_classes": [],
            "_model_module": "@jupyter-widgets/controls",
            "_model_module_version": "1.5.0",
            "_model_name": "HTMLModel",
            "_view_count": null,
            "_view_module": "@jupyter-widgets/controls",
            "_view_module_version": "1.5.0",
            "_view_name": "HTMLView",
            "description": "",
            "description_tooltip": null,
            "layout": "IPY_MODEL_eabf84d29a694e42858fa2756890a702",
            "placeholder": "​",
            "style": "IPY_MODEL_6561586559494b5781a068fc4b794cba",
            "value": " 2/2 [01:03&lt;00:00, 28.93s/ splits]"
          }
        },
        "ac357bb29d4c4aae94de82969224480d": {
          "model_module": "@jupyter-widgets/base",
          "model_name": "LayoutModel",
          "model_module_version": "1.2.0",
          "state": {
            "_model_module": "@jupyter-widgets/base",
            "_model_module_version": "1.2.0",
            "_model_name": "LayoutModel",
            "_view_count": null,
            "_view_module": "@jupyter-widgets/base",
            "_view_module_version": "1.2.0",
            "_view_name": "LayoutView",
            "align_content": null,
            "align_items": null,
            "align_self": null,
            "border": null,
            "bottom": null,
            "display": null,
            "flex": null,
            "flex_flow": null,
            "grid_area": null,
            "grid_auto_columns": null,
            "grid_auto_flow": null,
            "grid_auto_rows": null,
            "grid_column": null,
            "grid_gap": null,
            "grid_row": null,
            "grid_template_areas": null,
            "grid_template_columns": null,
            "grid_template_rows": null,
            "height": null,
            "justify_content": null,
            "justify_items": null,
            "left": null,
            "margin": null,
            "max_height": null,
            "max_width": null,
            "min_height": null,
            "min_width": null,
            "object_fit": null,
            "object_position": null,
            "order": null,
            "overflow": null,
            "overflow_x": null,
            "overflow_y": null,
            "padding": null,
            "right": null,
            "top": null,
            "visibility": "hidden",
            "width": null
          }
        },
        "34a23b6c3cbe4d6ea9a984fba8c26a4d": {
          "model_module": "@jupyter-widgets/base",
          "model_name": "LayoutModel",
          "model_module_version": "1.2.0",
          "state": {
            "_model_module": "@jupyter-widgets/base",
            "_model_module_version": "1.2.0",
            "_model_name": "LayoutModel",
            "_view_count": null,
            "_view_module": "@jupyter-widgets/base",
            "_view_module_version": "1.2.0",
            "_view_name": "LayoutView",
            "align_content": null,
            "align_items": null,
            "align_self": null,
            "border": null,
            "bottom": null,
            "display": null,
            "flex": null,
            "flex_flow": null,
            "grid_area": null,
            "grid_auto_columns": null,
            "grid_auto_flow": null,
            "grid_auto_rows": null,
            "grid_column": null,
            "grid_gap": null,
            "grid_row": null,
            "grid_template_areas": null,
            "grid_template_columns": null,
            "grid_template_rows": null,
            "height": null,
            "justify_content": null,
            "justify_items": null,
            "left": null,
            "margin": null,
            "max_height": null,
            "max_width": null,
            "min_height": null,
            "min_width": null,
            "object_fit": null,
            "object_position": null,
            "order": null,
            "overflow": null,
            "overflow_x": null,
            "overflow_y": null,
            "padding": null,
            "right": null,
            "top": null,
            "visibility": null,
            "width": null
          }
        },
        "eabf3e2bba91447fa4a7b715c29bda54": {
          "model_module": "@jupyter-widgets/controls",
          "model_name": "DescriptionStyleModel",
          "model_module_version": "1.5.0",
          "state": {
            "_model_module": "@jupyter-widgets/controls",
            "_model_module_version": "1.5.0",
            "_model_name": "DescriptionStyleModel",
            "_view_count": null,
            "_view_module": "@jupyter-widgets/base",
            "_view_module_version": "1.2.0",
            "_view_name": "StyleView",
            "description_width": ""
          }
        },
        "502e276df6c04633a2ff845860db7439": {
          "model_module": "@jupyter-widgets/base",
          "model_name": "LayoutModel",
          "model_module_version": "1.2.0",
          "state": {
            "_model_module": "@jupyter-widgets/base",
            "_model_module_version": "1.2.0",
            "_model_name": "LayoutModel",
            "_view_count": null,
            "_view_module": "@jupyter-widgets/base",
            "_view_module_version": "1.2.0",
            "_view_name": "LayoutView",
            "align_content": null,
            "align_items": null,
            "align_self": null,
            "border": null,
            "bottom": null,
            "display": null,
            "flex": null,
            "flex_flow": null,
            "grid_area": null,
            "grid_auto_columns": null,
            "grid_auto_flow": null,
            "grid_auto_rows": null,
            "grid_column": null,
            "grid_gap": null,
            "grid_row": null,
            "grid_template_areas": null,
            "grid_template_columns": null,
            "grid_template_rows": null,
            "height": null,
            "justify_content": null,
            "justify_items": null,
            "left": null,
            "margin": null,
            "max_height": null,
            "max_width": null,
            "min_height": null,
            "min_width": null,
            "object_fit": null,
            "object_position": null,
            "order": null,
            "overflow": null,
            "overflow_x": null,
            "overflow_y": null,
            "padding": null,
            "right": null,
            "top": null,
            "visibility": null,
            "width": null
          }
        },
        "7f5f2b8f46c64870bb17ed08fbc76640": {
          "model_module": "@jupyter-widgets/controls",
          "model_name": "ProgressStyleModel",
          "model_module_version": "1.5.0",
          "state": {
            "_model_module": "@jupyter-widgets/controls",
            "_model_module_version": "1.5.0",
            "_model_name": "ProgressStyleModel",
            "_view_count": null,
            "_view_module": "@jupyter-widgets/base",
            "_view_module_version": "1.2.0",
            "_view_name": "StyleView",
            "bar_color": null,
            "description_width": ""
          }
        },
        "eabf84d29a694e42858fa2756890a702": {
          "model_module": "@jupyter-widgets/base",
          "model_name": "LayoutModel",
          "model_module_version": "1.2.0",
          "state": {
            "_model_module": "@jupyter-widgets/base",
            "_model_module_version": "1.2.0",
            "_model_name": "LayoutModel",
            "_view_count": null,
            "_view_module": "@jupyter-widgets/base",
            "_view_module_version": "1.2.0",
            "_view_name": "LayoutView",
            "align_content": null,
            "align_items": null,
            "align_self": null,
            "border": null,
            "bottom": null,
            "display": null,
            "flex": null,
            "flex_flow": null,
            "grid_area": null,
            "grid_auto_columns": null,
            "grid_auto_flow": null,
            "grid_auto_rows": null,
            "grid_column": null,
            "grid_gap": null,
            "grid_row": null,
            "grid_template_areas": null,
            "grid_template_columns": null,
            "grid_template_rows": null,
            "height": null,
            "justify_content": null,
            "justify_items": null,
            "left": null,
            "margin": null,
            "max_height": null,
            "max_width": null,
            "min_height": null,
            "min_width": null,
            "object_fit": null,
            "object_position": null,
            "order": null,
            "overflow": null,
            "overflow_x": null,
            "overflow_y": null,
            "padding": null,
            "right": null,
            "top": null,
            "visibility": null,
            "width": null
          }
        },
        "6561586559494b5781a068fc4b794cba": {
          "model_module": "@jupyter-widgets/controls",
          "model_name": "DescriptionStyleModel",
          "model_module_version": "1.5.0",
          "state": {
            "_model_module": "@jupyter-widgets/controls",
            "_model_module_version": "1.5.0",
            "_model_name": "DescriptionStyleModel",
            "_view_count": null,
            "_view_module": "@jupyter-widgets/base",
            "_view_module_version": "1.2.0",
            "_view_name": "StyleView",
            "description_width": ""
          }
        },
        "b80e9dcbc0674ad48375836485141fb4": {
          "model_module": "@jupyter-widgets/controls",
          "model_name": "HBoxModel",
          "model_module_version": "1.5.0",
          "state": {
            "_dom_classes": [],
            "_model_module": "@jupyter-widgets/controls",
            "_model_module_version": "1.5.0",
            "_model_name": "HBoxModel",
            "_view_count": null,
            "_view_module": "@jupyter-widgets/controls",
            "_view_module_version": "1.5.0",
            "_view_name": "HBoxView",
            "box_style": "",
            "children": [
              "IPY_MODEL_f41e8e6cd0b849df85da87b6944da06f",
              "IPY_MODEL_bbd172d643454bc59fdae72e6342463c",
              "IPY_MODEL_0407106b0df34c53a8900d266476ee3f"
            ],
            "layout": "IPY_MODEL_21d4802c2241421187036ea313eb351e"
          }
        },
        "f41e8e6cd0b849df85da87b6944da06f": {
          "model_module": "@jupyter-widgets/controls",
          "model_name": "HTMLModel",
          "model_module_version": "1.5.0",
          "state": {
            "_dom_classes": [],
            "_model_module": "@jupyter-widgets/controls",
            "_model_module_version": "1.5.0",
            "_model_name": "HTMLModel",
            "_view_count": null,
            "_view_module": "@jupyter-widgets/controls",
            "_view_module_version": "1.5.0",
            "_view_name": "HTMLView",
            "description": "",
            "description_tooltip": null,
            "layout": "IPY_MODEL_4cdeb131b4c5455e86c5f885a23dc116",
            "placeholder": "​",
            "style": "IPY_MODEL_4f9c5c460949453dbd3b62b54778541d",
            "value": "Generating train examples...:  99%"
          }
        },
        "bbd172d643454bc59fdae72e6342463c": {
          "model_module": "@jupyter-widgets/controls",
          "model_name": "FloatProgressModel",
          "model_module_version": "1.5.0",
          "state": {
            "_dom_classes": [],
            "_model_module": "@jupyter-widgets/controls",
            "_model_module_version": "1.5.0",
            "_model_name": "FloatProgressModel",
            "_view_count": null,
            "_view_module": "@jupyter-widgets/controls",
            "_view_module_version": "1.5.0",
            "_view_name": "ProgressView",
            "bar_style": "",
            "description": "",
            "description_tooltip": null,
            "layout": "IPY_MODEL_10975968080448b5a127142cbb5cc44b",
            "max": 75750,
            "min": 0,
            "orientation": "horizontal",
            "style": "IPY_MODEL_d258b6dddcd74a38beae9f2baa9e75bb",
            "value": 75750
          }
        },
        "0407106b0df34c53a8900d266476ee3f": {
          "model_module": "@jupyter-widgets/controls",
          "model_name": "HTMLModel",
          "model_module_version": "1.5.0",
          "state": {
            "_dom_classes": [],
            "_model_module": "@jupyter-widgets/controls",
            "_model_module_version": "1.5.0",
            "_model_name": "HTMLModel",
            "_view_count": null,
            "_view_module": "@jupyter-widgets/controls",
            "_view_module_version": "1.5.0",
            "_view_name": "HTMLView",
            "description": "",
            "description_tooltip": null,
            "layout": "IPY_MODEL_d200ed6e4ee640cda4d82951ad441aae",
            "placeholder": "​",
            "style": "IPY_MODEL_de4d6250f4c749539cacc7b0b9d2daee",
            "value": " 74990/75750 [00:32&lt;00:00, 3206.48 examples/s]"
          }
        },
        "21d4802c2241421187036ea313eb351e": {
          "model_module": "@jupyter-widgets/base",
          "model_name": "LayoutModel",
          "model_module_version": "1.2.0",
          "state": {
            "_model_module": "@jupyter-widgets/base",
            "_model_module_version": "1.2.0",
            "_model_name": "LayoutModel",
            "_view_count": null,
            "_view_module": "@jupyter-widgets/base",
            "_view_module_version": "1.2.0",
            "_view_name": "LayoutView",
            "align_content": null,
            "align_items": null,
            "align_self": null,
            "border": null,
            "bottom": null,
            "display": null,
            "flex": null,
            "flex_flow": null,
            "grid_area": null,
            "grid_auto_columns": null,
            "grid_auto_flow": null,
            "grid_auto_rows": null,
            "grid_column": null,
            "grid_gap": null,
            "grid_row": null,
            "grid_template_areas": null,
            "grid_template_columns": null,
            "grid_template_rows": null,
            "height": null,
            "justify_content": null,
            "justify_items": null,
            "left": null,
            "margin": null,
            "max_height": null,
            "max_width": null,
            "min_height": null,
            "min_width": null,
            "object_fit": null,
            "object_position": null,
            "order": null,
            "overflow": null,
            "overflow_x": null,
            "overflow_y": null,
            "padding": null,
            "right": null,
            "top": null,
            "visibility": "hidden",
            "width": null
          }
        },
        "4cdeb131b4c5455e86c5f885a23dc116": {
          "model_module": "@jupyter-widgets/base",
          "model_name": "LayoutModel",
          "model_module_version": "1.2.0",
          "state": {
            "_model_module": "@jupyter-widgets/base",
            "_model_module_version": "1.2.0",
            "_model_name": "LayoutModel",
            "_view_count": null,
            "_view_module": "@jupyter-widgets/base",
            "_view_module_version": "1.2.0",
            "_view_name": "LayoutView",
            "align_content": null,
            "align_items": null,
            "align_self": null,
            "border": null,
            "bottom": null,
            "display": null,
            "flex": null,
            "flex_flow": null,
            "grid_area": null,
            "grid_auto_columns": null,
            "grid_auto_flow": null,
            "grid_auto_rows": null,
            "grid_column": null,
            "grid_gap": null,
            "grid_row": null,
            "grid_template_areas": null,
            "grid_template_columns": null,
            "grid_template_rows": null,
            "height": null,
            "justify_content": null,
            "justify_items": null,
            "left": null,
            "margin": null,
            "max_height": null,
            "max_width": null,
            "min_height": null,
            "min_width": null,
            "object_fit": null,
            "object_position": null,
            "order": null,
            "overflow": null,
            "overflow_x": null,
            "overflow_y": null,
            "padding": null,
            "right": null,
            "top": null,
            "visibility": null,
            "width": null
          }
        },
        "4f9c5c460949453dbd3b62b54778541d": {
          "model_module": "@jupyter-widgets/controls",
          "model_name": "DescriptionStyleModel",
          "model_module_version": "1.5.0",
          "state": {
            "_model_module": "@jupyter-widgets/controls",
            "_model_module_version": "1.5.0",
            "_model_name": "DescriptionStyleModel",
            "_view_count": null,
            "_view_module": "@jupyter-widgets/base",
            "_view_module_version": "1.2.0",
            "_view_name": "StyleView",
            "description_width": ""
          }
        },
        "10975968080448b5a127142cbb5cc44b": {
          "model_module": "@jupyter-widgets/base",
          "model_name": "LayoutModel",
          "model_module_version": "1.2.0",
          "state": {
            "_model_module": "@jupyter-widgets/base",
            "_model_module_version": "1.2.0",
            "_model_name": "LayoutModel",
            "_view_count": null,
            "_view_module": "@jupyter-widgets/base",
            "_view_module_version": "1.2.0",
            "_view_name": "LayoutView",
            "align_content": null,
            "align_items": null,
            "align_self": null,
            "border": null,
            "bottom": null,
            "display": null,
            "flex": null,
            "flex_flow": null,
            "grid_area": null,
            "grid_auto_columns": null,
            "grid_auto_flow": null,
            "grid_auto_rows": null,
            "grid_column": null,
            "grid_gap": null,
            "grid_row": null,
            "grid_template_areas": null,
            "grid_template_columns": null,
            "grid_template_rows": null,
            "height": null,
            "justify_content": null,
            "justify_items": null,
            "left": null,
            "margin": null,
            "max_height": null,
            "max_width": null,
            "min_height": null,
            "min_width": null,
            "object_fit": null,
            "object_position": null,
            "order": null,
            "overflow": null,
            "overflow_x": null,
            "overflow_y": null,
            "padding": null,
            "right": null,
            "top": null,
            "visibility": null,
            "width": null
          }
        },
        "d258b6dddcd74a38beae9f2baa9e75bb": {
          "model_module": "@jupyter-widgets/controls",
          "model_name": "ProgressStyleModel",
          "model_module_version": "1.5.0",
          "state": {
            "_model_module": "@jupyter-widgets/controls",
            "_model_module_version": "1.5.0",
            "_model_name": "ProgressStyleModel",
            "_view_count": null,
            "_view_module": "@jupyter-widgets/base",
            "_view_module_version": "1.2.0",
            "_view_name": "StyleView",
            "bar_color": null,
            "description_width": ""
          }
        },
        "d200ed6e4ee640cda4d82951ad441aae": {
          "model_module": "@jupyter-widgets/base",
          "model_name": "LayoutModel",
          "model_module_version": "1.2.0",
          "state": {
            "_model_module": "@jupyter-widgets/base",
            "_model_module_version": "1.2.0",
            "_model_name": "LayoutModel",
            "_view_count": null,
            "_view_module": "@jupyter-widgets/base",
            "_view_module_version": "1.2.0",
            "_view_name": "LayoutView",
            "align_content": null,
            "align_items": null,
            "align_self": null,
            "border": null,
            "bottom": null,
            "display": null,
            "flex": null,
            "flex_flow": null,
            "grid_area": null,
            "grid_auto_columns": null,
            "grid_auto_flow": null,
            "grid_auto_rows": null,
            "grid_column": null,
            "grid_gap": null,
            "grid_row": null,
            "grid_template_areas": null,
            "grid_template_columns": null,
            "grid_template_rows": null,
            "height": null,
            "justify_content": null,
            "justify_items": null,
            "left": null,
            "margin": null,
            "max_height": null,
            "max_width": null,
            "min_height": null,
            "min_width": null,
            "object_fit": null,
            "object_position": null,
            "order": null,
            "overflow": null,
            "overflow_x": null,
            "overflow_y": null,
            "padding": null,
            "right": null,
            "top": null,
            "visibility": null,
            "width": null
          }
        },
        "de4d6250f4c749539cacc7b0b9d2daee": {
          "model_module": "@jupyter-widgets/controls",
          "model_name": "DescriptionStyleModel",
          "model_module_version": "1.5.0",
          "state": {
            "_model_module": "@jupyter-widgets/controls",
            "_model_module_version": "1.5.0",
            "_model_name": "DescriptionStyleModel",
            "_view_count": null,
            "_view_module": "@jupyter-widgets/base",
            "_view_module_version": "1.2.0",
            "_view_name": "StyleView",
            "description_width": ""
          }
        },
        "ace3a4fc276c41ab8f31ee73d3e98d2c": {
          "model_module": "@jupyter-widgets/controls",
          "model_name": "HBoxModel",
          "model_module_version": "1.5.0",
          "state": {
            "_dom_classes": [],
            "_model_module": "@jupyter-widgets/controls",
            "_model_module_version": "1.5.0",
            "_model_name": "HBoxModel",
            "_view_count": null,
            "_view_module": "@jupyter-widgets/controls",
            "_view_module_version": "1.5.0",
            "_view_name": "HBoxView",
            "box_style": "",
            "children": [
              "IPY_MODEL_11b7b69c2ca74e43805bd76a238112e5",
              "IPY_MODEL_5466b20d39b749b78b596159b3cca4ec",
              "IPY_MODEL_9bbcd14f79c94a8e8f584e2653514269"
            ],
            "layout": "IPY_MODEL_d8e08324c3f048558c7ddf97028cf54f"
          }
        },
        "11b7b69c2ca74e43805bd76a238112e5": {
          "model_module": "@jupyter-widgets/controls",
          "model_name": "HTMLModel",
          "model_module_version": "1.5.0",
          "state": {
            "_dom_classes": [],
            "_model_module": "@jupyter-widgets/controls",
            "_model_module_version": "1.5.0",
            "_model_name": "HTMLModel",
            "_view_count": null,
            "_view_module": "@jupyter-widgets/controls",
            "_view_module_version": "1.5.0",
            "_view_name": "HTMLView",
            "description": "",
            "description_tooltip": null,
            "layout": "IPY_MODEL_35847115c0814edd9efd20cbc8cc214d",
            "placeholder": "​",
            "style": "IPY_MODEL_67c7f90a838944eeb73b107be89f69e3",
            "value": "Shuffling /root/tensorflow_datasets/food101/incomplete.F6E52H_2.0.0/food101-train.tfrecord*...:  95%"
          }
        },
        "5466b20d39b749b78b596159b3cca4ec": {
          "model_module": "@jupyter-widgets/controls",
          "model_name": "FloatProgressModel",
          "model_module_version": "1.5.0",
          "state": {
            "_dom_classes": [],
            "_model_module": "@jupyter-widgets/controls",
            "_model_module_version": "1.5.0",
            "_model_name": "FloatProgressModel",
            "_view_count": null,
            "_view_module": "@jupyter-widgets/controls",
            "_view_module_version": "1.5.0",
            "_view_name": "ProgressView",
            "bar_style": "",
            "description": "",
            "description_tooltip": null,
            "layout": "IPY_MODEL_a0104795e94849fdb92c431b4cca7f38",
            "max": 75750,
            "min": 0,
            "orientation": "horizontal",
            "style": "IPY_MODEL_0948e57673a942f2b45726fab5369ea4",
            "value": 75750
          }
        },
        "9bbcd14f79c94a8e8f584e2653514269": {
          "model_module": "@jupyter-widgets/controls",
          "model_name": "HTMLModel",
          "model_module_version": "1.5.0",
          "state": {
            "_dom_classes": [],
            "_model_module": "@jupyter-widgets/controls",
            "_model_module_version": "1.5.0",
            "_model_name": "HTMLModel",
            "_view_count": null,
            "_view_module": "@jupyter-widgets/controls",
            "_view_module_version": "1.5.0",
            "_view_name": "HTMLView",
            "description": "",
            "description_tooltip": null,
            "layout": "IPY_MODEL_e203fdab5d8e46e49a2d1d6f48e7632d",
            "placeholder": "​",
            "style": "IPY_MODEL_4282d17c1536442694ef2b2520bf9294",
            "value": " 71782/75750 [00:07&lt;00:00, 8830.16 examples/s]"
          }
        },
        "d8e08324c3f048558c7ddf97028cf54f": {
          "model_module": "@jupyter-widgets/base",
          "model_name": "LayoutModel",
          "model_module_version": "1.2.0",
          "state": {
            "_model_module": "@jupyter-widgets/base",
            "_model_module_version": "1.2.0",
            "_model_name": "LayoutModel",
            "_view_count": null,
            "_view_module": "@jupyter-widgets/base",
            "_view_module_version": "1.2.0",
            "_view_name": "LayoutView",
            "align_content": null,
            "align_items": null,
            "align_self": null,
            "border": null,
            "bottom": null,
            "display": null,
            "flex": null,
            "flex_flow": null,
            "grid_area": null,
            "grid_auto_columns": null,
            "grid_auto_flow": null,
            "grid_auto_rows": null,
            "grid_column": null,
            "grid_gap": null,
            "grid_row": null,
            "grid_template_areas": null,
            "grid_template_columns": null,
            "grid_template_rows": null,
            "height": null,
            "justify_content": null,
            "justify_items": null,
            "left": null,
            "margin": null,
            "max_height": null,
            "max_width": null,
            "min_height": null,
            "min_width": null,
            "object_fit": null,
            "object_position": null,
            "order": null,
            "overflow": null,
            "overflow_x": null,
            "overflow_y": null,
            "padding": null,
            "right": null,
            "top": null,
            "visibility": "hidden",
            "width": null
          }
        },
        "35847115c0814edd9efd20cbc8cc214d": {
          "model_module": "@jupyter-widgets/base",
          "model_name": "LayoutModel",
          "model_module_version": "1.2.0",
          "state": {
            "_model_module": "@jupyter-widgets/base",
            "_model_module_version": "1.2.0",
            "_model_name": "LayoutModel",
            "_view_count": null,
            "_view_module": "@jupyter-widgets/base",
            "_view_module_version": "1.2.0",
            "_view_name": "LayoutView",
            "align_content": null,
            "align_items": null,
            "align_self": null,
            "border": null,
            "bottom": null,
            "display": null,
            "flex": null,
            "flex_flow": null,
            "grid_area": null,
            "grid_auto_columns": null,
            "grid_auto_flow": null,
            "grid_auto_rows": null,
            "grid_column": null,
            "grid_gap": null,
            "grid_row": null,
            "grid_template_areas": null,
            "grid_template_columns": null,
            "grid_template_rows": null,
            "height": null,
            "justify_content": null,
            "justify_items": null,
            "left": null,
            "margin": null,
            "max_height": null,
            "max_width": null,
            "min_height": null,
            "min_width": null,
            "object_fit": null,
            "object_position": null,
            "order": null,
            "overflow": null,
            "overflow_x": null,
            "overflow_y": null,
            "padding": null,
            "right": null,
            "top": null,
            "visibility": null,
            "width": null
          }
        },
        "67c7f90a838944eeb73b107be89f69e3": {
          "model_module": "@jupyter-widgets/controls",
          "model_name": "DescriptionStyleModel",
          "model_module_version": "1.5.0",
          "state": {
            "_model_module": "@jupyter-widgets/controls",
            "_model_module_version": "1.5.0",
            "_model_name": "DescriptionStyleModel",
            "_view_count": null,
            "_view_module": "@jupyter-widgets/base",
            "_view_module_version": "1.2.0",
            "_view_name": "StyleView",
            "description_width": ""
          }
        },
        "a0104795e94849fdb92c431b4cca7f38": {
          "model_module": "@jupyter-widgets/base",
          "model_name": "LayoutModel",
          "model_module_version": "1.2.0",
          "state": {
            "_model_module": "@jupyter-widgets/base",
            "_model_module_version": "1.2.0",
            "_model_name": "LayoutModel",
            "_view_count": null,
            "_view_module": "@jupyter-widgets/base",
            "_view_module_version": "1.2.0",
            "_view_name": "LayoutView",
            "align_content": null,
            "align_items": null,
            "align_self": null,
            "border": null,
            "bottom": null,
            "display": null,
            "flex": null,
            "flex_flow": null,
            "grid_area": null,
            "grid_auto_columns": null,
            "grid_auto_flow": null,
            "grid_auto_rows": null,
            "grid_column": null,
            "grid_gap": null,
            "grid_row": null,
            "grid_template_areas": null,
            "grid_template_columns": null,
            "grid_template_rows": null,
            "height": null,
            "justify_content": null,
            "justify_items": null,
            "left": null,
            "margin": null,
            "max_height": null,
            "max_width": null,
            "min_height": null,
            "min_width": null,
            "object_fit": null,
            "object_position": null,
            "order": null,
            "overflow": null,
            "overflow_x": null,
            "overflow_y": null,
            "padding": null,
            "right": null,
            "top": null,
            "visibility": null,
            "width": null
          }
        },
        "0948e57673a942f2b45726fab5369ea4": {
          "model_module": "@jupyter-widgets/controls",
          "model_name": "ProgressStyleModel",
          "model_module_version": "1.5.0",
          "state": {
            "_model_module": "@jupyter-widgets/controls",
            "_model_module_version": "1.5.0",
            "_model_name": "ProgressStyleModel",
            "_view_count": null,
            "_view_module": "@jupyter-widgets/base",
            "_view_module_version": "1.2.0",
            "_view_name": "StyleView",
            "bar_color": null,
            "description_width": ""
          }
        },
        "e203fdab5d8e46e49a2d1d6f48e7632d": {
          "model_module": "@jupyter-widgets/base",
          "model_name": "LayoutModel",
          "model_module_version": "1.2.0",
          "state": {
            "_model_module": "@jupyter-widgets/base",
            "_model_module_version": "1.2.0",
            "_model_name": "LayoutModel",
            "_view_count": null,
            "_view_module": "@jupyter-widgets/base",
            "_view_module_version": "1.2.0",
            "_view_name": "LayoutView",
            "align_content": null,
            "align_items": null,
            "align_self": null,
            "border": null,
            "bottom": null,
            "display": null,
            "flex": null,
            "flex_flow": null,
            "grid_area": null,
            "grid_auto_columns": null,
            "grid_auto_flow": null,
            "grid_auto_rows": null,
            "grid_column": null,
            "grid_gap": null,
            "grid_row": null,
            "grid_template_areas": null,
            "grid_template_columns": null,
            "grid_template_rows": null,
            "height": null,
            "justify_content": null,
            "justify_items": null,
            "left": null,
            "margin": null,
            "max_height": null,
            "max_width": null,
            "min_height": null,
            "min_width": null,
            "object_fit": null,
            "object_position": null,
            "order": null,
            "overflow": null,
            "overflow_x": null,
            "overflow_y": null,
            "padding": null,
            "right": null,
            "top": null,
            "visibility": null,
            "width": null
          }
        },
        "4282d17c1536442694ef2b2520bf9294": {
          "model_module": "@jupyter-widgets/controls",
          "model_name": "DescriptionStyleModel",
          "model_module_version": "1.5.0",
          "state": {
            "_model_module": "@jupyter-widgets/controls",
            "_model_module_version": "1.5.0",
            "_model_name": "DescriptionStyleModel",
            "_view_count": null,
            "_view_module": "@jupyter-widgets/base",
            "_view_module_version": "1.2.0",
            "_view_name": "StyleView",
            "description_width": ""
          }
        },
        "1dae28449ca345c694a37a3e4eb51eb7": {
          "model_module": "@jupyter-widgets/controls",
          "model_name": "HBoxModel",
          "model_module_version": "1.5.0",
          "state": {
            "_dom_classes": [],
            "_model_module": "@jupyter-widgets/controls",
            "_model_module_version": "1.5.0",
            "_model_name": "HBoxModel",
            "_view_count": null,
            "_view_module": "@jupyter-widgets/controls",
            "_view_module_version": "1.5.0",
            "_view_name": "HBoxView",
            "box_style": "",
            "children": [
              "IPY_MODEL_78086a7c8b314eb7ad7a4ec49448a4ba",
              "IPY_MODEL_6696e5cec2524823b8bb89ad27eaf3a8",
              "IPY_MODEL_d03142b5e30f4b5e904946f6919be424"
            ],
            "layout": "IPY_MODEL_324e1cadb8ef4bc3861760e55a1698d8"
          }
        },
        "78086a7c8b314eb7ad7a4ec49448a4ba": {
          "model_module": "@jupyter-widgets/controls",
          "model_name": "HTMLModel",
          "model_module_version": "1.5.0",
          "state": {
            "_dom_classes": [],
            "_model_module": "@jupyter-widgets/controls",
            "_model_module_version": "1.5.0",
            "_model_name": "HTMLModel",
            "_view_count": null,
            "_view_module": "@jupyter-widgets/controls",
            "_view_module_version": "1.5.0",
            "_view_name": "HTMLView",
            "description": "",
            "description_tooltip": null,
            "layout": "IPY_MODEL_1eb1e8b124844fa0a37d878cf22c9543",
            "placeholder": "​",
            "style": "IPY_MODEL_9dfc2f8714a745c29411d895c8da7cbb",
            "value": "Generating validation examples...:  99%"
          }
        },
        "6696e5cec2524823b8bb89ad27eaf3a8": {
          "model_module": "@jupyter-widgets/controls",
          "model_name": "FloatProgressModel",
          "model_module_version": "1.5.0",
          "state": {
            "_dom_classes": [],
            "_model_module": "@jupyter-widgets/controls",
            "_model_module_version": "1.5.0",
            "_model_name": "FloatProgressModel",
            "_view_count": null,
            "_view_module": "@jupyter-widgets/controls",
            "_view_module_version": "1.5.0",
            "_view_name": "ProgressView",
            "bar_style": "",
            "description": "",
            "description_tooltip": null,
            "layout": "IPY_MODEL_83219c8375434bca81ceb38e660ab9a0",
            "max": 25250,
            "min": 0,
            "orientation": "horizontal",
            "style": "IPY_MODEL_485d656ec2dd4c3f836158a778d49a8e",
            "value": 25250
          }
        },
        "d03142b5e30f4b5e904946f6919be424": {
          "model_module": "@jupyter-widgets/controls",
          "model_name": "HTMLModel",
          "model_module_version": "1.5.0",
          "state": {
            "_dom_classes": [],
            "_model_module": "@jupyter-widgets/controls",
            "_model_module_version": "1.5.0",
            "_model_name": "HTMLModel",
            "_view_count": null,
            "_view_module": "@jupyter-widgets/controls",
            "_view_module_version": "1.5.0",
            "_view_name": "HTMLView",
            "description": "",
            "description_tooltip": null,
            "layout": "IPY_MODEL_876ab2ee292d45389b5d27fc5a63baa1",
            "placeholder": "​",
            "style": "IPY_MODEL_50283be45fb0493a9b58ac38009eaef0",
            "value": " 24893/25250 [00:07&lt;00:00, 2943.32 examples/s]"
          }
        },
        "324e1cadb8ef4bc3861760e55a1698d8": {
          "model_module": "@jupyter-widgets/base",
          "model_name": "LayoutModel",
          "model_module_version": "1.2.0",
          "state": {
            "_model_module": "@jupyter-widgets/base",
            "_model_module_version": "1.2.0",
            "_model_name": "LayoutModel",
            "_view_count": null,
            "_view_module": "@jupyter-widgets/base",
            "_view_module_version": "1.2.0",
            "_view_name": "LayoutView",
            "align_content": null,
            "align_items": null,
            "align_self": null,
            "border": null,
            "bottom": null,
            "display": null,
            "flex": null,
            "flex_flow": null,
            "grid_area": null,
            "grid_auto_columns": null,
            "grid_auto_flow": null,
            "grid_auto_rows": null,
            "grid_column": null,
            "grid_gap": null,
            "grid_row": null,
            "grid_template_areas": null,
            "grid_template_columns": null,
            "grid_template_rows": null,
            "height": null,
            "justify_content": null,
            "justify_items": null,
            "left": null,
            "margin": null,
            "max_height": null,
            "max_width": null,
            "min_height": null,
            "min_width": null,
            "object_fit": null,
            "object_position": null,
            "order": null,
            "overflow": null,
            "overflow_x": null,
            "overflow_y": null,
            "padding": null,
            "right": null,
            "top": null,
            "visibility": "hidden",
            "width": null
          }
        },
        "1eb1e8b124844fa0a37d878cf22c9543": {
          "model_module": "@jupyter-widgets/base",
          "model_name": "LayoutModel",
          "model_module_version": "1.2.0",
          "state": {
            "_model_module": "@jupyter-widgets/base",
            "_model_module_version": "1.2.0",
            "_model_name": "LayoutModel",
            "_view_count": null,
            "_view_module": "@jupyter-widgets/base",
            "_view_module_version": "1.2.0",
            "_view_name": "LayoutView",
            "align_content": null,
            "align_items": null,
            "align_self": null,
            "border": null,
            "bottom": null,
            "display": null,
            "flex": null,
            "flex_flow": null,
            "grid_area": null,
            "grid_auto_columns": null,
            "grid_auto_flow": null,
            "grid_auto_rows": null,
            "grid_column": null,
            "grid_gap": null,
            "grid_row": null,
            "grid_template_areas": null,
            "grid_template_columns": null,
            "grid_template_rows": null,
            "height": null,
            "justify_content": null,
            "justify_items": null,
            "left": null,
            "margin": null,
            "max_height": null,
            "max_width": null,
            "min_height": null,
            "min_width": null,
            "object_fit": null,
            "object_position": null,
            "order": null,
            "overflow": null,
            "overflow_x": null,
            "overflow_y": null,
            "padding": null,
            "right": null,
            "top": null,
            "visibility": null,
            "width": null
          }
        },
        "9dfc2f8714a745c29411d895c8da7cbb": {
          "model_module": "@jupyter-widgets/controls",
          "model_name": "DescriptionStyleModel",
          "model_module_version": "1.5.0",
          "state": {
            "_model_module": "@jupyter-widgets/controls",
            "_model_module_version": "1.5.0",
            "_model_name": "DescriptionStyleModel",
            "_view_count": null,
            "_view_module": "@jupyter-widgets/base",
            "_view_module_version": "1.2.0",
            "_view_name": "StyleView",
            "description_width": ""
          }
        },
        "83219c8375434bca81ceb38e660ab9a0": {
          "model_module": "@jupyter-widgets/base",
          "model_name": "LayoutModel",
          "model_module_version": "1.2.0",
          "state": {
            "_model_module": "@jupyter-widgets/base",
            "_model_module_version": "1.2.0",
            "_model_name": "LayoutModel",
            "_view_count": null,
            "_view_module": "@jupyter-widgets/base",
            "_view_module_version": "1.2.0",
            "_view_name": "LayoutView",
            "align_content": null,
            "align_items": null,
            "align_self": null,
            "border": null,
            "bottom": null,
            "display": null,
            "flex": null,
            "flex_flow": null,
            "grid_area": null,
            "grid_auto_columns": null,
            "grid_auto_flow": null,
            "grid_auto_rows": null,
            "grid_column": null,
            "grid_gap": null,
            "grid_row": null,
            "grid_template_areas": null,
            "grid_template_columns": null,
            "grid_template_rows": null,
            "height": null,
            "justify_content": null,
            "justify_items": null,
            "left": null,
            "margin": null,
            "max_height": null,
            "max_width": null,
            "min_height": null,
            "min_width": null,
            "object_fit": null,
            "object_position": null,
            "order": null,
            "overflow": null,
            "overflow_x": null,
            "overflow_y": null,
            "padding": null,
            "right": null,
            "top": null,
            "visibility": null,
            "width": null
          }
        },
        "485d656ec2dd4c3f836158a778d49a8e": {
          "model_module": "@jupyter-widgets/controls",
          "model_name": "ProgressStyleModel",
          "model_module_version": "1.5.0",
          "state": {
            "_model_module": "@jupyter-widgets/controls",
            "_model_module_version": "1.5.0",
            "_model_name": "ProgressStyleModel",
            "_view_count": null,
            "_view_module": "@jupyter-widgets/base",
            "_view_module_version": "1.2.0",
            "_view_name": "StyleView",
            "bar_color": null,
            "description_width": ""
          }
        },
        "876ab2ee292d45389b5d27fc5a63baa1": {
          "model_module": "@jupyter-widgets/base",
          "model_name": "LayoutModel",
          "model_module_version": "1.2.0",
          "state": {
            "_model_module": "@jupyter-widgets/base",
            "_model_module_version": "1.2.0",
            "_model_name": "LayoutModel",
            "_view_count": null,
            "_view_module": "@jupyter-widgets/base",
            "_view_module_version": "1.2.0",
            "_view_name": "LayoutView",
            "align_content": null,
            "align_items": null,
            "align_self": null,
            "border": null,
            "bottom": null,
            "display": null,
            "flex": null,
            "flex_flow": null,
            "grid_area": null,
            "grid_auto_columns": null,
            "grid_auto_flow": null,
            "grid_auto_rows": null,
            "grid_column": null,
            "grid_gap": null,
            "grid_row": null,
            "grid_template_areas": null,
            "grid_template_columns": null,
            "grid_template_rows": null,
            "height": null,
            "justify_content": null,
            "justify_items": null,
            "left": null,
            "margin": null,
            "max_height": null,
            "max_width": null,
            "min_height": null,
            "min_width": null,
            "object_fit": null,
            "object_position": null,
            "order": null,
            "overflow": null,
            "overflow_x": null,
            "overflow_y": null,
            "padding": null,
            "right": null,
            "top": null,
            "visibility": null,
            "width": null
          }
        },
        "50283be45fb0493a9b58ac38009eaef0": {
          "model_module": "@jupyter-widgets/controls",
          "model_name": "DescriptionStyleModel",
          "model_module_version": "1.5.0",
          "state": {
            "_model_module": "@jupyter-widgets/controls",
            "_model_module_version": "1.5.0",
            "_model_name": "DescriptionStyleModel",
            "_view_count": null,
            "_view_module": "@jupyter-widgets/base",
            "_view_module_version": "1.2.0",
            "_view_name": "StyleView",
            "description_width": ""
          }
        },
        "1b42fbbfbcd943918765604c8f479d45": {
          "model_module": "@jupyter-widgets/controls",
          "model_name": "HBoxModel",
          "model_module_version": "1.5.0",
          "state": {
            "_dom_classes": [],
            "_model_module": "@jupyter-widgets/controls",
            "_model_module_version": "1.5.0",
            "_model_name": "HBoxModel",
            "_view_count": null,
            "_view_module": "@jupyter-widgets/controls",
            "_view_module_version": "1.5.0",
            "_view_name": "HBoxView",
            "box_style": "",
            "children": [
              "IPY_MODEL_9175b170b89e4131831b0dd3749e53a6",
              "IPY_MODEL_f23a0d63136c4877afcff6ef2af9cf5b",
              "IPY_MODEL_ef5f01c1f4da4a7ea99ba2b89d4d8223"
            ],
            "layout": "IPY_MODEL_66b991ccc0ea47ffbdfb4d1384672207"
          }
        },
        "9175b170b89e4131831b0dd3749e53a6": {
          "model_module": "@jupyter-widgets/controls",
          "model_name": "HTMLModel",
          "model_module_version": "1.5.0",
          "state": {
            "_dom_classes": [],
            "_model_module": "@jupyter-widgets/controls",
            "_model_module_version": "1.5.0",
            "_model_name": "HTMLModel",
            "_view_count": null,
            "_view_module": "@jupyter-widgets/controls",
            "_view_module_version": "1.5.0",
            "_view_name": "HTMLView",
            "description": "",
            "description_tooltip": null,
            "layout": "IPY_MODEL_8f32633c048f4918bdc85803d25d6800",
            "placeholder": "​",
            "style": "IPY_MODEL_997adc0b2b6c461d815751103da76784",
            "value": "Shuffling /root/tensorflow_datasets/food101/incomplete.F6E52H_2.0.0/food101-validation.tfrecord*...:  90%"
          }
        },
        "f23a0d63136c4877afcff6ef2af9cf5b": {
          "model_module": "@jupyter-widgets/controls",
          "model_name": "FloatProgressModel",
          "model_module_version": "1.5.0",
          "state": {
            "_dom_classes": [],
            "_model_module": "@jupyter-widgets/controls",
            "_model_module_version": "1.5.0",
            "_model_name": "FloatProgressModel",
            "_view_count": null,
            "_view_module": "@jupyter-widgets/controls",
            "_view_module_version": "1.5.0",
            "_view_name": "ProgressView",
            "bar_style": "",
            "description": "",
            "description_tooltip": null,
            "layout": "IPY_MODEL_f216277a7e5c4dbcbbdd75343d167a30",
            "max": 25250,
            "min": 0,
            "orientation": "horizontal",
            "style": "IPY_MODEL_ef2bedb51a1e4bc299a692377c304ede",
            "value": 25250
          }
        },
        "ef5f01c1f4da4a7ea99ba2b89d4d8223": {
          "model_module": "@jupyter-widgets/controls",
          "model_name": "HTMLModel",
          "model_module_version": "1.5.0",
          "state": {
            "_dom_classes": [],
            "_model_module": "@jupyter-widgets/controls",
            "_model_module_version": "1.5.0",
            "_model_name": "HTMLModel",
            "_view_count": null,
            "_view_module": "@jupyter-widgets/controls",
            "_view_module_version": "1.5.0",
            "_view_name": "HTMLView",
            "description": "",
            "description_tooltip": null,
            "layout": "IPY_MODEL_d8cdbd1377694ab381c12ca025e39b1f",
            "placeholder": "​",
            "style": "IPY_MODEL_5257092979d544cab1e8411fea646eb2",
            "value": " 22801/25250 [00:07&lt;00:00, 2718.86 examples/s]"
          }
        },
        "66b991ccc0ea47ffbdfb4d1384672207": {
          "model_module": "@jupyter-widgets/base",
          "model_name": "LayoutModel",
          "model_module_version": "1.2.0",
          "state": {
            "_model_module": "@jupyter-widgets/base",
            "_model_module_version": "1.2.0",
            "_model_name": "LayoutModel",
            "_view_count": null,
            "_view_module": "@jupyter-widgets/base",
            "_view_module_version": "1.2.0",
            "_view_name": "LayoutView",
            "align_content": null,
            "align_items": null,
            "align_self": null,
            "border": null,
            "bottom": null,
            "display": null,
            "flex": null,
            "flex_flow": null,
            "grid_area": null,
            "grid_auto_columns": null,
            "grid_auto_flow": null,
            "grid_auto_rows": null,
            "grid_column": null,
            "grid_gap": null,
            "grid_row": null,
            "grid_template_areas": null,
            "grid_template_columns": null,
            "grid_template_rows": null,
            "height": null,
            "justify_content": null,
            "justify_items": null,
            "left": null,
            "margin": null,
            "max_height": null,
            "max_width": null,
            "min_height": null,
            "min_width": null,
            "object_fit": null,
            "object_position": null,
            "order": null,
            "overflow": null,
            "overflow_x": null,
            "overflow_y": null,
            "padding": null,
            "right": null,
            "top": null,
            "visibility": "hidden",
            "width": null
          }
        },
        "8f32633c048f4918bdc85803d25d6800": {
          "model_module": "@jupyter-widgets/base",
          "model_name": "LayoutModel",
          "model_module_version": "1.2.0",
          "state": {
            "_model_module": "@jupyter-widgets/base",
            "_model_module_version": "1.2.0",
            "_model_name": "LayoutModel",
            "_view_count": null,
            "_view_module": "@jupyter-widgets/base",
            "_view_module_version": "1.2.0",
            "_view_name": "LayoutView",
            "align_content": null,
            "align_items": null,
            "align_self": null,
            "border": null,
            "bottom": null,
            "display": null,
            "flex": null,
            "flex_flow": null,
            "grid_area": null,
            "grid_auto_columns": null,
            "grid_auto_flow": null,
            "grid_auto_rows": null,
            "grid_column": null,
            "grid_gap": null,
            "grid_row": null,
            "grid_template_areas": null,
            "grid_template_columns": null,
            "grid_template_rows": null,
            "height": null,
            "justify_content": null,
            "justify_items": null,
            "left": null,
            "margin": null,
            "max_height": null,
            "max_width": null,
            "min_height": null,
            "min_width": null,
            "object_fit": null,
            "object_position": null,
            "order": null,
            "overflow": null,
            "overflow_x": null,
            "overflow_y": null,
            "padding": null,
            "right": null,
            "top": null,
            "visibility": null,
            "width": null
          }
        },
        "997adc0b2b6c461d815751103da76784": {
          "model_module": "@jupyter-widgets/controls",
          "model_name": "DescriptionStyleModel",
          "model_module_version": "1.5.0",
          "state": {
            "_model_module": "@jupyter-widgets/controls",
            "_model_module_version": "1.5.0",
            "_model_name": "DescriptionStyleModel",
            "_view_count": null,
            "_view_module": "@jupyter-widgets/base",
            "_view_module_version": "1.2.0",
            "_view_name": "StyleView",
            "description_width": ""
          }
        },
        "f216277a7e5c4dbcbbdd75343d167a30": {
          "model_module": "@jupyter-widgets/base",
          "model_name": "LayoutModel",
          "model_module_version": "1.2.0",
          "state": {
            "_model_module": "@jupyter-widgets/base",
            "_model_module_version": "1.2.0",
            "_model_name": "LayoutModel",
            "_view_count": null,
            "_view_module": "@jupyter-widgets/base",
            "_view_module_version": "1.2.0",
            "_view_name": "LayoutView",
            "align_content": null,
            "align_items": null,
            "align_self": null,
            "border": null,
            "bottom": null,
            "display": null,
            "flex": null,
            "flex_flow": null,
            "grid_area": null,
            "grid_auto_columns": null,
            "grid_auto_flow": null,
            "grid_auto_rows": null,
            "grid_column": null,
            "grid_gap": null,
            "grid_row": null,
            "grid_template_areas": null,
            "grid_template_columns": null,
            "grid_template_rows": null,
            "height": null,
            "justify_content": null,
            "justify_items": null,
            "left": null,
            "margin": null,
            "max_height": null,
            "max_width": null,
            "min_height": null,
            "min_width": null,
            "object_fit": null,
            "object_position": null,
            "order": null,
            "overflow": null,
            "overflow_x": null,
            "overflow_y": null,
            "padding": null,
            "right": null,
            "top": null,
            "visibility": null,
            "width": null
          }
        },
        "ef2bedb51a1e4bc299a692377c304ede": {
          "model_module": "@jupyter-widgets/controls",
          "model_name": "ProgressStyleModel",
          "model_module_version": "1.5.0",
          "state": {
            "_model_module": "@jupyter-widgets/controls",
            "_model_module_version": "1.5.0",
            "_model_name": "ProgressStyleModel",
            "_view_count": null,
            "_view_module": "@jupyter-widgets/base",
            "_view_module_version": "1.2.0",
            "_view_name": "StyleView",
            "bar_color": null,
            "description_width": ""
          }
        },
        "d8cdbd1377694ab381c12ca025e39b1f": {
          "model_module": "@jupyter-widgets/base",
          "model_name": "LayoutModel",
          "model_module_version": "1.2.0",
          "state": {
            "_model_module": "@jupyter-widgets/base",
            "_model_module_version": "1.2.0",
            "_model_name": "LayoutModel",
            "_view_count": null,
            "_view_module": "@jupyter-widgets/base",
            "_view_module_version": "1.2.0",
            "_view_name": "LayoutView",
            "align_content": null,
            "align_items": null,
            "align_self": null,
            "border": null,
            "bottom": null,
            "display": null,
            "flex": null,
            "flex_flow": null,
            "grid_area": null,
            "grid_auto_columns": null,
            "grid_auto_flow": null,
            "grid_auto_rows": null,
            "grid_column": null,
            "grid_gap": null,
            "grid_row": null,
            "grid_template_areas": null,
            "grid_template_columns": null,
            "grid_template_rows": null,
            "height": null,
            "justify_content": null,
            "justify_items": null,
            "left": null,
            "margin": null,
            "max_height": null,
            "max_width": null,
            "min_height": null,
            "min_width": null,
            "object_fit": null,
            "object_position": null,
            "order": null,
            "overflow": null,
            "overflow_x": null,
            "overflow_y": null,
            "padding": null,
            "right": null,
            "top": null,
            "visibility": null,
            "width": null
          }
        },
        "5257092979d544cab1e8411fea646eb2": {
          "model_module": "@jupyter-widgets/controls",
          "model_name": "DescriptionStyleModel",
          "model_module_version": "1.5.0",
          "state": {
            "_model_module": "@jupyter-widgets/controls",
            "_model_module_version": "1.5.0",
            "_model_name": "DescriptionStyleModel",
            "_view_count": null,
            "_view_module": "@jupyter-widgets/base",
            "_view_module_version": "1.2.0",
            "_view_name": "StyleView",
            "description_width": ""
          }
        }
      }
    },
    "accelerator": "TPU"
  },
  "cells": [
    {
      "cell_type": "markdown",
      "metadata": {
        "id": "view-in-github",
        "colab_type": "text"
      },
      "source": [
        "<a href=\"https://colab.research.google.com/github/ALOK158/Feast_Vision/blob/main/FeastAI.ipynb\" target=\"_parent\"><img src=\"https://colab.research.google.com/assets/colab-badge.svg\" alt=\"Open In Colab\"/></a>"
      ]
    },
    {
      "cell_type": "markdown",
      "source": [
        "##Food Vision\n"
      ],
      "metadata": {
        "id": "-tx7Nr1AX4G8"
      }
    },
    {
      "cell_type": "markdown",
      "source": [
        "Check GPU\n",
        "\n",
        "Google collab offers free GPUS, but GPUS with socre of 7.5+ can perform **Mixed Precission** training\n",
        "\n"
      ],
      "metadata": {
        "id": "yGcknPASYdqk"
      }
    },
    {
      "cell_type": "code",
      "source": [
        "!nvidia-smi -L"
      ],
      "metadata": {
        "colab": {
          "base_uri": "https://localhost:8080/"
        },
        "id": "iOmHBbFiYjAI",
        "outputId": "b5eb67f0-2ec5-4f87-c781-c32617ff08b9"
      },
      "execution_count": 1,
      "outputs": [
        {
          "output_type": "stream",
          "name": "stdout",
          "text": [
            "/bin/bash: line 1: nvidia-smi: command not found\n"
          ]
        }
      ]
    },
    {
      "cell_type": "markdown",
      "source": [
        "## Helper fucntion"
      ],
      "metadata": {
        "id": "7cMp-hjYbbmo"
      }
    },
    {
      "cell_type": "code",
      "source": [
        "# download helper fucntion script\n",
        "!wget https://raw.githubusercontent.com/mrdbourke/tensorflow-deep-learning/refs/heads/main/extras/helper_functions.py"
      ],
      "metadata": {
        "colab": {
          "base_uri": "https://localhost:8080/"
        },
        "id": "MQ-4Gl5gcBb_",
        "outputId": "fd171787-97cc-434d-8f7d-96a00cc35a85"
      },
      "execution_count": 2,
      "outputs": [
        {
          "output_type": "stream",
          "name": "stdout",
          "text": [
            "--2025-01-31 04:22:54--  https://raw.githubusercontent.com/mrdbourke/tensorflow-deep-learning/refs/heads/main/extras/helper_functions.py\n",
            "Resolving raw.githubusercontent.com (raw.githubusercontent.com)... 185.199.108.133, 185.199.110.133, 185.199.111.133, ...\n",
            "Connecting to raw.githubusercontent.com (raw.githubusercontent.com)|185.199.108.133|:443... connected.\n",
            "HTTP request sent, awaiting response... 200 OK\n",
            "Length: 10246 (10K) [text/plain]\n",
            "Saving to: ‘helper_functions.py’\n",
            "\n",
            "helper_functions.py 100%[===================>]  10.01K  --.-KB/s    in 0s      \n",
            "\n",
            "2025-01-31 04:22:54 (129 MB/s) - ‘helper_functions.py’ saved [10246/10246]\n",
            "\n"
          ]
        }
      ]
    },
    {
      "cell_type": "code",
      "source": [
        "#Import series from helper function\n",
        "from helper_functions import create_tensorboard_callback, plot_loss_curves, compare_historys"
      ],
      "metadata": {
        "id": "Nqblx3mEcg1M"
      },
      "execution_count": 3,
      "outputs": []
    },
    {
      "cell_type": "markdown",
      "source": [
        "## Use tensorflow to download the data\n",
        "\n",
        "Using Food101 dataset"
      ],
      "metadata": {
        "id": "Aaovw16cc7Z1"
      }
    },
    {
      "cell_type": "code",
      "source": [
        "# Get the dataset\n",
        "!pip install tensorflow-datasets --upgrade\n",
        "#Import series from helper function\n",
        "import tensorflow_datasets as tfds"
      ],
      "metadata": {
        "colab": {
          "base_uri": "https://localhost:8080/"
        },
        "id": "-jWfVZNcdjY9",
        "outputId": "f8076903-264b-480a-dcd1-aecbab380d0a"
      },
      "execution_count": 4,
      "outputs": [
        {
          "output_type": "stream",
          "name": "stdout",
          "text": [
            "Requirement already satisfied: tensorflow-datasets in /usr/local/lib/python3.11/dist-packages (4.9.7)\n",
            "Requirement already satisfied: absl-py in /usr/local/lib/python3.11/dist-packages (from tensorflow-datasets) (1.4.0)\n",
            "Requirement already satisfied: click in /usr/local/lib/python3.11/dist-packages (from tensorflow-datasets) (8.1.8)\n",
            "Requirement already satisfied: dm-tree in /usr/local/lib/python3.11/dist-packages (from tensorflow-datasets) (0.1.8)\n",
            "Requirement already satisfied: immutabledict in /usr/local/lib/python3.11/dist-packages (from tensorflow-datasets) (4.2.1)\n",
            "Requirement already satisfied: numpy in /usr/local/lib/python3.11/dist-packages (from tensorflow-datasets) (1.26.4)\n",
            "Requirement already satisfied: promise in /usr/local/lib/python3.11/dist-packages (from tensorflow-datasets) (2.3)\n",
            "Requirement already satisfied: protobuf>=3.20 in /usr/local/lib/python3.11/dist-packages (from tensorflow-datasets) (4.25.6)\n",
            "Requirement already satisfied: psutil in /usr/local/lib/python3.11/dist-packages (from tensorflow-datasets) (5.9.5)\n",
            "Requirement already satisfied: pyarrow in /usr/local/lib/python3.11/dist-packages (from tensorflow-datasets) (19.0.0)\n",
            "Requirement already satisfied: requests>=2.19.0 in /usr/local/lib/python3.11/dist-packages (from tensorflow-datasets) (2.32.3)\n",
            "Requirement already satisfied: simple-parsing in /usr/local/lib/python3.11/dist-packages (from tensorflow-datasets) (0.1.7)\n",
            "Requirement already satisfied: tensorflow-metadata in /usr/local/lib/python3.11/dist-packages (from tensorflow-datasets) (1.16.1)\n",
            "Requirement already satisfied: termcolor in /usr/local/lib/python3.11/dist-packages (from tensorflow-datasets) (2.5.0)\n",
            "Requirement already satisfied: toml in /usr/local/lib/python3.11/dist-packages (from tensorflow-datasets) (0.10.2)\n",
            "Requirement already satisfied: tqdm in /usr/local/lib/python3.11/dist-packages (from tensorflow-datasets) (4.67.1)\n",
            "Requirement already satisfied: wrapt in /usr/local/lib/python3.11/dist-packages (from tensorflow-datasets) (1.17.2)\n",
            "Requirement already satisfied: array-record>=0.5.0 in /usr/local/lib/python3.11/dist-packages (from tensorflow-datasets) (0.6.0)\n",
            "Requirement already satisfied: etils>=1.9.1 in /usr/local/lib/python3.11/dist-packages (from etils[edc,enp,epath,epy,etree]>=1.9.1; python_version >= \"3.11\"->tensorflow-datasets) (1.11.0)\n",
            "Requirement already satisfied: fsspec in /usr/local/lib/python3.11/dist-packages (from etils[edc,enp,epath,epy,etree]>=1.9.1; python_version >= \"3.11\"->tensorflow-datasets) (2024.12.0)\n",
            "Requirement already satisfied: importlib_resources in /usr/local/lib/python3.11/dist-packages (from etils[edc,enp,epath,epy,etree]>=1.9.1; python_version >= \"3.11\"->tensorflow-datasets) (6.5.2)\n",
            "Requirement already satisfied: typing_extensions in /usr/local/lib/python3.11/dist-packages (from etils[edc,enp,epath,epy,etree]>=1.9.1; python_version >= \"3.11\"->tensorflow-datasets) (4.12.2)\n",
            "Requirement already satisfied: zipp in /usr/local/lib/python3.11/dist-packages (from etils[edc,enp,epath,epy,etree]>=1.9.1; python_version >= \"3.11\"->tensorflow-datasets) (3.21.0)\n",
            "Requirement already satisfied: charset-normalizer<4,>=2 in /usr/local/lib/python3.11/dist-packages (from requests>=2.19.0->tensorflow-datasets) (3.4.1)\n",
            "Requirement already satisfied: idna<4,>=2.5 in /usr/local/lib/python3.11/dist-packages (from requests>=2.19.0->tensorflow-datasets) (3.10)\n",
            "Requirement already satisfied: urllib3<3,>=1.21.1 in /usr/local/lib/python3.11/dist-packages (from requests>=2.19.0->tensorflow-datasets) (2.3.0)\n",
            "Requirement already satisfied: certifi>=2017.4.17 in /usr/local/lib/python3.11/dist-packages (from requests>=2.19.0->tensorflow-datasets) (2024.12.14)\n",
            "Requirement already satisfied: six in /usr/local/lib/python3.11/dist-packages (from promise->tensorflow-datasets) (1.17.0)\n",
            "Requirement already satisfied: docstring-parser<1.0,>=0.15 in /usr/local/lib/python3.11/dist-packages (from simple-parsing->tensorflow-datasets) (0.16)\n",
            "Requirement already satisfied: googleapis-common-protos<2,>=1.56.4 in /usr/local/lib/python3.11/dist-packages (from tensorflow-metadata->tensorflow-datasets) (1.66.0)\n"
          ]
        }
      ]
    },
    {
      "cell_type": "code",
      "source": [
        "## list all datasets avaialble\n",
        "datasets_list=tfds.list_builders()\n",
        "print(\"food101\" in datasets_list)"
      ],
      "metadata": {
        "colab": {
          "base_uri": "https://localhost:8080/"
        },
        "id": "UFiRq76KfJNu",
        "outputId": "f3188f5c-8ed0-4933-e455-d837dd946115"
      },
      "execution_count": 5,
      "outputs": [
        {
          "output_type": "stream",
          "name": "stdout",
          "text": [
            "True\n"
          ]
        }
      ]
    },
    {
      "cell_type": "markdown",
      "source": [],
      "metadata": {
        "id": "HvYMKtYsD8dz"
      }
    },
    {
      "cell_type": "code",
      "source": [
        "#get the data\n",
        "(train_data,test_data),ds_info=tfds.load(name=\"food101\",split=[\"train\", \"validation\"],\n",
        "                                         shuffle_files=True,\n",
        "                                         as_supervised=True, #data gets returned in tuple format\n",
        "                                         with_info=True)\n"
      ],
      "metadata": {
        "id": "MGcGEY-Ofr_1",
        "colab": {
          "base_uri": "https://localhost:8080/",
          "height": 168,
          "referenced_widgets": [
            "5988a1b9b3884fd8937523494ccf22a4",
            "0371d645e8354236b9b5015adff284da",
            "023166cfa5f244ec87bf62a4668744ca",
            "09d1efc637214a48bc9285c61ccd57ec",
            "c8490994051046188ad7da9d27a4c701",
            "3e3d817cc5e24a669e3d099d2388e4c5",
            "f418bcf669d64ad1994805365bca908d",
            "295ba41f2c57442eab48f0d39d0146f7",
            "713a9430f1df4f89a19c392c03f95b84",
            "316594926eb54420969f2ffce0120431",
            "9fd62fd15f7344128dcbf2366e1586d0",
            "0cc8ad82efb54d06800f47480175e499",
            "ede3e152c583480d8618094d573bd3f8",
            "f9b7154bbe4a4a74ab1a1088f3cf9466",
            "e18da313a3e5402bbb407e9b891f2146",
            "5a938c56ad9545cfa6208f4dccc519b3",
            "de0a57d53b094fdbb6fc57a3185e1f5b",
            "48ccf82f8cdf4c7c9ee04bff6869a0a2",
            "435a2803c3d7482dab5576cbf8a4ea7f",
            "bc8a933a02564820bcd8bb804b6d1b53",
            "58774465ef42411d996c0d70329b6652",
            "c00c0e4859ff492393065471a636a63c",
            "7b90b19a4f7b4d42ae2578074a88aa71",
            "fe7f8eea727d4afd92641a51f34962df",
            "648e6b76d7ad45df9e643ea22e2cc6a1",
            "73686618aacc478d84f890d1b0e92b9e",
            "4eec2553b2f348ce9a733382c9d69c8a",
            "6f13ffc80eda44e0b33d01dfe9078a50",
            "ae77b30abd30435f8bbc1d546e87bded",
            "01fc0da3ab834c69be816b1fd2d51773",
            "958c507cde5242628c0934300ad233af",
            "43a723d9fbc0439b9fa79472d8ea78b4",
            "79dd7efceece4cc8afb9a1e2be59ac27",
            "6d998f067fd143e59756b4828651024e",
            "ce31ed8903914ee4b7f88a42a456d6f7",
            "ada32996041d46559e2e63dbace3bb5e",
            "90c83e56501e4f3b864396627e38882d",
            "ac357bb29d4c4aae94de82969224480d",
            "34a23b6c3cbe4d6ea9a984fba8c26a4d",
            "eabf3e2bba91447fa4a7b715c29bda54",
            "502e276df6c04633a2ff845860db7439",
            "7f5f2b8f46c64870bb17ed08fbc76640",
            "eabf84d29a694e42858fa2756890a702",
            "6561586559494b5781a068fc4b794cba",
            "b80e9dcbc0674ad48375836485141fb4",
            "f41e8e6cd0b849df85da87b6944da06f",
            "bbd172d643454bc59fdae72e6342463c",
            "0407106b0df34c53a8900d266476ee3f",
            "21d4802c2241421187036ea313eb351e",
            "4cdeb131b4c5455e86c5f885a23dc116",
            "4f9c5c460949453dbd3b62b54778541d",
            "10975968080448b5a127142cbb5cc44b",
            "d258b6dddcd74a38beae9f2baa9e75bb",
            "d200ed6e4ee640cda4d82951ad441aae",
            "de4d6250f4c749539cacc7b0b9d2daee",
            "ace3a4fc276c41ab8f31ee73d3e98d2c",
            "11b7b69c2ca74e43805bd76a238112e5",
            "5466b20d39b749b78b596159b3cca4ec",
            "9bbcd14f79c94a8e8f584e2653514269",
            "d8e08324c3f048558c7ddf97028cf54f",
            "35847115c0814edd9efd20cbc8cc214d",
            "67c7f90a838944eeb73b107be89f69e3",
            "a0104795e94849fdb92c431b4cca7f38",
            "0948e57673a942f2b45726fab5369ea4",
            "e203fdab5d8e46e49a2d1d6f48e7632d",
            "4282d17c1536442694ef2b2520bf9294",
            "1dae28449ca345c694a37a3e4eb51eb7",
            "78086a7c8b314eb7ad7a4ec49448a4ba",
            "6696e5cec2524823b8bb89ad27eaf3a8",
            "d03142b5e30f4b5e904946f6919be424",
            "324e1cadb8ef4bc3861760e55a1698d8",
            "1eb1e8b124844fa0a37d878cf22c9543",
            "9dfc2f8714a745c29411d895c8da7cbb",
            "83219c8375434bca81ceb38e660ab9a0",
            "485d656ec2dd4c3f836158a778d49a8e",
            "876ab2ee292d45389b5d27fc5a63baa1",
            "50283be45fb0493a9b58ac38009eaef0",
            "1b42fbbfbcd943918765604c8f479d45",
            "9175b170b89e4131831b0dd3749e53a6",
            "f23a0d63136c4877afcff6ef2af9cf5b",
            "ef5f01c1f4da4a7ea99ba2b89d4d8223",
            "66b991ccc0ea47ffbdfb4d1384672207",
            "8f32633c048f4918bdc85803d25d6800",
            "997adc0b2b6c461d815751103da76784",
            "f216277a7e5c4dbcbbdd75343d167a30",
            "ef2bedb51a1e4bc299a692377c304ede",
            "d8cdbd1377694ab381c12ca025e39b1f",
            "5257092979d544cab1e8411fea646eb2"
          ]
        },
        "outputId": "bea2a1ac-6477-4b7d-9d4e-3f811fc22318"
      },
      "execution_count": 6,
      "outputs": [
        {
          "output_type": "stream",
          "name": "stdout",
          "text": [
            "Downloading and preparing dataset 4.65 GiB (download: 4.65 GiB, generated: Unknown size, total: 4.65 GiB) to /root/tensorflow_datasets/food101/2.0.0...\n"
          ]
        },
        {
          "output_type": "display_data",
          "data": {
            "text/plain": [
              "Dl Completed...: 0 url [00:00, ? url/s]"
            ],
            "application/vnd.jupyter.widget-view+json": {
              "version_major": 2,
              "version_minor": 0,
              "model_id": "5988a1b9b3884fd8937523494ccf22a4"
            }
          },
          "metadata": {}
        },
        {
          "output_type": "display_data",
          "data": {
            "text/plain": [
              "Dl Size...: 0 MiB [00:00, ? MiB/s]"
            ],
            "application/vnd.jupyter.widget-view+json": {
              "version_major": 2,
              "version_minor": 0,
              "model_id": "0cc8ad82efb54d06800f47480175e499"
            }
          },
          "metadata": {}
        },
        {
          "output_type": "display_data",
          "data": {
            "text/plain": [
              "Extraction completed...: 0 file [00:00, ? file/s]"
            ],
            "application/vnd.jupyter.widget-view+json": {
              "version_major": 2,
              "version_minor": 0,
              "model_id": "7b90b19a4f7b4d42ae2578074a88aa71"
            }
          },
          "metadata": {}
        },
        {
          "output_type": "display_data",
          "data": {
            "text/plain": [
              "Generating splits...:   0%|          | 0/2 [00:00<?, ? splits/s]"
            ],
            "application/vnd.jupyter.widget-view+json": {
              "version_major": 2,
              "version_minor": 0,
              "model_id": "6d998f067fd143e59756b4828651024e"
            }
          },
          "metadata": {}
        },
        {
          "output_type": "display_data",
          "data": {
            "text/plain": [
              "Generating train examples...:   0%|          | 0/75750 [00:00<?, ? examples/s]"
            ],
            "application/vnd.jupyter.widget-view+json": {
              "version_major": 2,
              "version_minor": 0,
              "model_id": "b80e9dcbc0674ad48375836485141fb4"
            }
          },
          "metadata": {}
        },
        {
          "output_type": "display_data",
          "data": {
            "text/plain": [
              "Shuffling /root/tensorflow_datasets/food101/incomplete.F6E52H_2.0.0/food101-train.tfrecord*...:   0%|         …"
            ],
            "application/vnd.jupyter.widget-view+json": {
              "version_major": 2,
              "version_minor": 0,
              "model_id": "ace3a4fc276c41ab8f31ee73d3e98d2c"
            }
          },
          "metadata": {}
        },
        {
          "output_type": "display_data",
          "data": {
            "text/plain": [
              "Generating validation examples...:   0%|          | 0/25250 [00:00<?, ? examples/s]"
            ],
            "application/vnd.jupyter.widget-view+json": {
              "version_major": 2,
              "version_minor": 0,
              "model_id": "1dae28449ca345c694a37a3e4eb51eb7"
            }
          },
          "metadata": {}
        },
        {
          "output_type": "display_data",
          "data": {
            "text/plain": [
              "Shuffling /root/tensorflow_datasets/food101/incomplete.F6E52H_2.0.0/food101-validation.tfrecord*...:   0%|    …"
            ],
            "application/vnd.jupyter.widget-view+json": {
              "version_major": 2,
              "version_minor": 0,
              "model_id": "1b42fbbfbcd943918765604c8f479d45"
            }
          },
          "metadata": {}
        },
        {
          "output_type": "stream",
          "name": "stdout",
          "text": [
            "Dataset food101 downloaded and prepared to /root/tensorflow_datasets/food101/2.0.0. Subsequent calls will reuse this data.\n"
          ]
        }
      ]
    },
    {
      "cell_type": "code",
      "source": [
        "#Deatures of Food101\n",
        "ds_info.features"
      ],
      "metadata": {
        "id": "NYy5bIu7iT7E",
        "colab": {
          "base_uri": "https://localhost:8080/"
        },
        "outputId": "a108026c-163a-4663-e4fe-4eb02c2ae62a"
      },
      "execution_count": 7,
      "outputs": [
        {
          "output_type": "execute_result",
          "data": {
            "text/plain": [
              "FeaturesDict({\n",
              "    'image': Image(shape=(None, None, 3), dtype=uint8),\n",
              "    'label': ClassLabel(shape=(), dtype=int64, num_classes=101),\n",
              "})"
            ]
          },
          "metadata": {},
          "execution_count": 7
        }
      ]
    },
    {
      "cell_type": "code",
      "source": [
        "#Get the class names\n",
        "class_names=ds_info.features[\"label\"].names\n",
        "class_names[:10]"
      ],
      "metadata": {
        "id": "DgZ_6b4412n7",
        "colab": {
          "base_uri": "https://localhost:8080/"
        },
        "outputId": "e61e1bb9-a3a8-4b35-a125-f423bbde92d7"
      },
      "execution_count": 8,
      "outputs": [
        {
          "output_type": "execute_result",
          "data": {
            "text/plain": [
              "['apple_pie',\n",
              " 'baby_back_ribs',\n",
              " 'baklava',\n",
              " 'beef_carpaccio',\n",
              " 'beef_tartare',\n",
              " 'beet_salad',\n",
              " 'beignets',\n",
              " 'bibimbap',\n",
              " 'bread_pudding',\n",
              " 'breakfast_burrito']"
            ]
          },
          "metadata": {},
          "execution_count": 8
        }
      ]
    },
    {
      "cell_type": "markdown",
      "source": [
        "##Exploring the food101 data set\n",
        "\n",
        "Get favourable with the data\n",
        "\n",
        "*  Class names\n",
        "* Shape of input images\n",
        "* The datatype of our input data\n"
      ],
      "metadata": {
        "id": "ALO3JHwg2QBd"
      }
    },
    {
      "cell_type": "code",
      "source": [
        "#Take one sample of the train data\n",
        "\n",
        "train_one_sample=train_data.take(1)\n",
        "train_one_sample"
      ],
      "metadata": {
        "id": "57nDK_gm2U3L",
        "colab": {
          "base_uri": "https://localhost:8080/"
        },
        "outputId": "e9a2d77b-ecff-45e9-81c8-94bdcfe7eb76"
      },
      "execution_count": 9,
      "outputs": [
        {
          "output_type": "execute_result",
          "data": {
            "text/plain": [
              "<_TakeDataset element_spec=(TensorSpec(shape=(None, None, 3), dtype=tf.uint8, name=None), TensorSpec(shape=(), dtype=tf.int64, name=None))>"
            ]
          },
          "metadata": {},
          "execution_count": 9
        }
      ]
    },
    {
      "cell_type": "code",
      "source": [
        "for image,label in train_one_sample:\n",
        "  print(f\"\"\"Image shape: {image.shape},\n",
        "  Image datatype: {image.dtype},\n",
        "  Target class from Food101: {class_names[label]}\"\"\")\n"
      ],
      "metadata": {
        "colab": {
          "base_uri": "https://localhost:8080/"
        },
        "id": "d00Dk8pjJ5o_",
        "outputId": "91d33f6f-f91a-4ee8-806c-125789e6b0f4"
      },
      "execution_count": 10,
      "outputs": [
        {
          "output_type": "stream",
          "name": "stdout",
          "text": [
            "Image shape: (512, 512, 3),\n",
            "  Image datatype: <dtype: 'uint8'>,\n",
            "  Target class from Food101: deviled_eggs\n"
          ]
        }
      ]
    },
    {
      "cell_type": "code",
      "source": [
        "# lets see our image\n",
        "import matplotlib.pyplot as plt\n",
        "plt.imshow(image)\n",
        "plt.title(class_names[label.numpy()])\n",
        "plt.axis(False)\n"
      ],
      "metadata": {
        "colab": {
          "base_uri": "https://localhost:8080/",
          "height": 445
        },
        "id": "AtrvlzRkKiXZ",
        "outputId": "79a4ba1a-5c9c-434d-d9f6-2b3fedb846f9"
      },
      "execution_count": 11,
      "outputs": [
        {
          "output_type": "execute_result",
          "data": {
            "text/plain": [
              "(-0.5, 511.5, 511.5, -0.5)"
            ]
          },
          "metadata": {},
          "execution_count": 11
        },
        {
          "output_type": "display_data",
          "data": {
            "text/plain": [
              "<Figure size 640x480 with 1 Axes>"
            ],
            "image/png": "[encoded data removed]"
          },
          "metadata": {}
        }
      ]
    },
    {
      "cell_type": "markdown",
      "source": [
        "##Create preprocessing for our data\n",
        "\n",
        "In oreder to get data ready for neural netowrk , we have to do preprocesing via some precoseeing fucntion and have it prepare\n",
        "\n",
        "Insights of the data\n",
        "\n",
        "* In uint8 datatype\n",
        "\n",
        "* Comprised of different types of tensors\n",
        "\n",
        "* not scaled\n",
        "\n",
        "What does model like?\n",
        "\n",
        "* Data in float32/float 16\n",
        "* For batches , Tensorflow like all of tensors within batches of same size\n",
        "* Scaled? Normalized tensors\n",
        "\n",
        "As we are going  to us **EfficinetNetBX** pretrained model from tf.keras.application we donot need to rescale our data\n",
        "\n"
      ],
      "metadata": {
        "id": "MCyTzHQbK9-r"
      }
    },
    {
      "cell_type": "code",
      "source": [
        "import tensorflow as tf"
      ],
      "metadata": {
        "id": "B_syI-U4eCvo"
      },
      "execution_count": 12,
      "outputs": []
    },
    {
      "cell_type": "code",
      "source": [
        "## Fucntion to preprocess the image\n",
        "def preprocess_img(image,label,image_shape=224):\n",
        "  \"\"\"\n",
        "  Convert image datattype to float34\n",
        "  image to [image shape, shape, color]\n",
        "  \"\"\"\n",
        "  image=tf.image.resize(image,[image_shape,image_shape]) #reshape the image\n",
        "  image=image/255. # NOrmalization\n",
        "  return tf.cast(image, tf.float32), label  # return the tuple with image, label"
      ],
      "metadata": {
        "id": "G6d-bHpdSTZg"
      },
      "execution_count": 13,
      "outputs": []
    },
    {
      "cell_type": "code",
      "source": [
        "# lets check out our preprocessed image\n",
        "\n",
        "preprocessed_img=preprocess_img(image,label)[0]\n",
        "preprocessed_img.shape\n",
        "preprocessed_img.dtype\n"
      ],
      "metadata": {
        "colab": {
          "base_uri": "https://localhost:8080/"
        },
        "id": "rEPqX1l6awt0",
        "outputId": "2aae948b-3977-4104-bc13-3e8569125ea0"
      },
      "execution_count": 14,
      "outputs": [
        {
          "output_type": "execute_result",
          "data": {
            "text/plain": [
              "tf.float32"
            ]
          },
          "metadata": {},
          "execution_count": 14
        }
      ]
    },
    {
      "cell_type": "markdown",
      "source": [
        "###Preparning the dataset\n",
        "\n",
        "We are going to make our data input pipelne run really fast\n",
        "\n",
        "https://www.tensorflow.org/guide/data"
      ],
      "metadata": {
        "id": "IWUPYtpwfcC4"
      }
    },
    {
      "cell_type": "code",
      "source": [
        "# Map preprocessing data and paralize it\n",
        "# Lets batched up our data and prepare\n",
        "\n",
        "\n",
        "train_data=train_data.map(map_func=preprocess_img, num_parallel_calls=tf.data.AUTOTUNE)##Autotune tells gpu to go on full power\n",
        "#Shuffle train_Data and turn it into batches and prefetch it(load it faster)\n",
        "\n",
        "train_data=train_data.shuffle(buffer_size=1000).batch(batch_size=32).prefetch(buffer_size=tf.data.AUTOTUNE)\n",
        "\n",
        "# Map preprocessing fucnt to test data\n",
        "test_data=test_data.map(preprocess_img, num_parallel_calls=tf.data.AUTOTUNE).batch(32).prefetch(tf.data.AUTOTUNE)# prefetch-> while computing on one batch, it makes next batch ready for preprocessing\n",
        "\n",
        "\n",
        "\n"
      ],
      "metadata": {
        "id": "C8rhnVl7eSBn"
      },
      "execution_count": 15,
      "outputs": []
    },
    {
      "cell_type": "code",
      "source": [
        "train_data, test_data"
      ],
      "metadata": {
        "colab": {
          "base_uri": "https://localhost:8080/"
        },
        "id": "L0Iq1uHltZpo",
        "outputId": "9ebe8ac3-4d6d-4938-bb1f-9eaf37011d95"
      },
      "execution_count": 16,
      "outputs": [
        {
          "output_type": "execute_result",
          "data": {
            "text/plain": [
              "(<_PrefetchDataset element_spec=(TensorSpec(shape=(None, 224, 224, 3), dtype=tf.float32, name=None), TensorSpec(shape=(None,), dtype=tf.int64, name=None))>,\n",
              " <_PrefetchDataset element_spec=(TensorSpec(shape=(None, 224, 224, 3), dtype=tf.float32, name=None), TensorSpec(shape=(None,), dtype=tf.int64, name=None))>)"
            ]
          },
          "metadata": {},
          "execution_count": 16
        }
      ]
    },
    {
      "cell_type": "markdown",
      "source": [
        "> \"In above cell, via map this preprocessing fucnt i.e preprocees_img across our training dataset , shuffle a number elements and then turn them into batch size of 32 and via prefectch, via prpcessing the given batch it make ready the next upcoming batch\"\n",
        "\n",
        "* key thing about prefecth its that it get computed on *CPU*"
      ],
      "metadata": {
        "id": "9rA2xXsbw2il"
      }
    },
    {
      "cell_type": "markdown",
      "source": [
        "## Creating modelling callbacks\n",
        "\n",
        "This help us to track our model  while trainning\n",
        "\n",
        "* Tensorboard callback to log traning reuslts\n",
        "* Model checkpoint  to save our model's progress after feature extraction"
      ],
      "metadata": {
        "id": "OLK5bim-yK9_"
      }
    },
    {
      "cell_type": "code",
      "source": [
        "# create  mdoelcheckpoint callbakc->saves model progress while traning\n",
        "checkpoint_path=\"model_checkpoints/cp.ckpt.weights.h5\"## /cp.ckpt-> tells to save it in cp folder with name ckpt\n",
        "model_checkpoint=tf.keras.callbacks.ModelCheckpoint(checkpoint_path,\n",
        "                                                    monitor=\"val_acc\",\n",
        "                                                    save_best_only=True, ## saves only best model\n",
        "                                                    save_weights_only=True ## saves weights only, easier to load, corrected argument name\n",
        "                                                      ) ## can set verbose =0-> donont tells wherteher model is saved or not"
      ],
      "metadata": {
        "id": "P94O9k_x7P7n"
      },
      "execution_count": 17,
      "outputs": []
    },
    {
      "cell_type": "markdown",
      "source": [
        "##Setup Mixed precission training\n",
        "\n",
        "Mixed precision utilizez a combination of float32 and float16  to speed up performance"
      ],
      "metadata": {
        "id": "Xx-eNYd14Die"
      }
    },
    {
      "cell_type": "code",
      "source": [
        " # turn on mixed precission\n",
        " from tensorflow.keras import mixed_precision\n",
        " mixed_precision.set_global_policy(\"mixed_float16\")# set global data policy to mixed precision"
      ],
      "metadata": {
        "id": "ysitPP0f4Icr"
      },
      "execution_count": 20,
      "outputs": []
    },
    {
      "cell_type": "code",
      "source": [
        "mixed_precision.global_policy()"
      ],
      "metadata": {
        "colab": {
          "base_uri": "https://localhost:8080/"
        },
        "id": "kWyYDEYs7pDE",
        "outputId": "f5a8ec02-3a01-4838-c517-c7b514878cdd"
      },
      "execution_count": 19,
      "outputs": [
        {
          "output_type": "execute_result",
          "data": {
            "text/plain": [
              "<DTypePolicy \"mixed_float16\">"
            ]
          },
          "metadata": {},
          "execution_count": 19
        }
      ]
    },
    {
      "cell_type": "markdown",
      "source": [
        "## Build  Feature Extraction Model"
      ],
      "metadata": {
        "id": "K4_f5tFNrrCl"
      }
    },
    {
      "cell_type": "code",
      "source": [
        "# Instead of:\n",
        "#from tensorflow.keras.layers import preprocessing\n",
        "\n",
        "# Use this import statement for TF version >=2.10:\n",
        "#from tensorflow.keras import layers\n",
        "#from tensorflow.keras.layers.experimental import preprocessing\n",
        "\n",
        "# Use this import for TensorFlow 2.10 and later:\n",
        "from tensorflow.keras import layers\n",
        "from tensorflow.keras import preprocessing  # Updated import location"
      ],
      "metadata": {
        "id": "gyrkGNcawX4-"
      },
      "execution_count": 29,
      "outputs": []
    },
    {
      "cell_type": "code",
      "source": [
        "from tensorflow.keras import layers\n",
        "#from tensorflow.keras.layers.experimental import preprocessing # Commented out the problematic line\n",
        "\n",
        "\n",
        "# Assumed the case for using TF 2.10 or later\n",
        "\n",
        "#create model\n",
        "input_shape=(224,224,3)\n",
        "base_model=tf.keras.applications.EfficientNetB0(include_top=False)\n",
        "base_model.trainable=False #Trainable model got frozen\n",
        "\n",
        "# Create functional model\n",
        "inputs=layers.Input(shape=input_shape, name=\"input_layer\")\n",
        "x=base_model(inputs, training =False)#Make sure layers which should be in ineference model only stay like that\n",
        "x=layers.GlobalAveragePooling2D()(x)\n",
        "x=layers.Dense(len(class_names))(x)\n",
        "\n",
        "outputs=layers.Activation(\"softmax\",dtype=tf.float32, name=\"softmax_float32\")(x)\n",
        "model=tf.keras.Model(inputs,outputs)\n",
        "\n",
        "#compile the model\n",
        "model.compile(loss=\"sparse_categorical_crossentropy\",\n",
        "              optimizer=tf.keras.optimizers.Adam(),\n",
        "              metrics=[\"accuracy\"])\n"
      ],
      "metadata": {
        "colab": {
          "base_uri": "https://localhost:8080/"
        },
        "id": "qySwEdSVs0_Z",
        "outputId": "1a07b6f9-aa4b-467f-ebb2-d390a88fa9af"
      },
      "execution_count": 30,
      "outputs": [
        {
          "output_type": "stream",
          "name": "stdout",
          "text": [
            "Downloading data from https://storage.googleapis.com/keras-applications/efficientnetb0_notop.h5\n",
            "\u001b[1m16705208/16705208\u001b[0m \u001b[32m━━━━━━━━━━━━━━━━━━━━\u001b[0m\u001b[37m\u001b[0m \u001b[1m0s\u001b[0m 0us/step\n"
          ]
        }
      ]
    },
    {
      "cell_type": "code",
      "source": [
        "model.summary()"
      ],
      "metadata": {
        "colab": {
          "base_uri": "https://localhost:8080/",
          "height": 354
        },
        "id": "0hu4lkUEwwES",
        "outputId": "d98c7bf6-06a6-4d2a-bec9-27024add5c4b"
      },
      "execution_count": 31,
      "outputs": [
        {
          "output_type": "display_data",
          "data": {
            "text/plain": [
              "\u001b[1mModel: \"functional\"\u001b[0m\n"
            ],
            "text/html": [
              "<pre style=\"white-space:pre;overflow-x:auto;line-height:normal;font-family:Menlo,'DejaVu Sans Mono',consolas,'Courier New',monospace\"><span style=\"font-weight: bold\">Model: \"functional\"</span>\n",
              "</pre>\n"
            ]
          },
          "metadata": {}
        },
        {
          "output_type": "display_data",
          "data": {
            "text/plain": [
              "┏━━━━━━━━━━━━━━━━━━━━━━━━━━━━━━━━━━━━━━┳━━━━━━━━━━━━━━━━━━━━━━━━━━━━━┳━━━━━━━━━━━━━━━━━┓\n",
              "┃\u001b[1m \u001b[0m\u001b[1mLayer (type)                        \u001b[0m\u001b[1m \u001b[0m┃\u001b[1m \u001b[0m\u001b[1mOutput Shape               \u001b[0m\u001b[1m \u001b[0m┃\u001b[1m \u001b[0m\u001b[1m        Param #\u001b[0m\u001b[1m \u001b[0m┃\n",
              "┡━━━━━━━━━━━━━━━━━━━━━━━━━━━━━━━━━━━━━━╇━━━━━━━━━━━━━━━━━━━━━━━━━━━━━╇━━━━━━━━━━━━━━━━━┩\n",
              "│ input_layer (\u001b[38;5;33mInputLayer\u001b[0m)             │ (\u001b[38;5;45mNone\u001b[0m, \u001b[38;5;34m224\u001b[0m, \u001b[38;5;34m224\u001b[0m, \u001b[38;5;34m3\u001b[0m)         │               \u001b[38;5;34m0\u001b[0m │\n",
              "├──────────────────────────────────────┼─────────────────────────────┼─────────────────┤\n",
              "│ efficientnetb0 (\u001b[38;5;33mFunctional\u001b[0m)          │ (\u001b[38;5;45mNone\u001b[0m, \u001b[38;5;34m7\u001b[0m, \u001b[38;5;34m7\u001b[0m, \u001b[38;5;34m1280\u001b[0m)          │       \u001b[38;5;34m4,049,571\u001b[0m │\n",
              "├──────────────────────────────────────┼─────────────────────────────┼─────────────────┤\n",
              "│ global_average_pooling2d             │ (\u001b[38;5;45mNone\u001b[0m, \u001b[38;5;34m1280\u001b[0m)                │               \u001b[38;5;34m0\u001b[0m │\n",
              "│ (\u001b[38;5;33mGlobalAveragePooling2D\u001b[0m)             │                             │                 │\n",
              "├──────────────────────────────────────┼─────────────────────────────┼─────────────────┤\n",
              "│ dense (\u001b[38;5;33mDense\u001b[0m)                        │ (\u001b[38;5;45mNone\u001b[0m, \u001b[38;5;34m101\u001b[0m)                 │         \u001b[38;5;34m129,381\u001b[0m │\n",
              "├──────────────────────────────────────┼─────────────────────────────┼─────────────────┤\n",
              "│ cast_1 (\u001b[38;5;33mCast\u001b[0m)                        │ (\u001b[38;5;45mNone\u001b[0m, \u001b[38;5;34m101\u001b[0m)                 │               \u001b[38;5;34m0\u001b[0m │\n",
              "├──────────────────────────────────────┼─────────────────────────────┼─────────────────┤\n",
              "│ softmax_float32 (\u001b[38;5;33mActivation\u001b[0m)         │ (\u001b[38;5;45mNone\u001b[0m, \u001b[38;5;34m101\u001b[0m)                 │               \u001b[38;5;34m0\u001b[0m │\n",
              "└──────────────────────────────────────┴─────────────────────────────┴─────────────────┘\n"
            ],
            "text/html": [
              "<pre style=\"white-space:pre;overflow-x:auto;line-height:normal;font-family:Menlo,'DejaVu Sans Mono',consolas,'Courier New',monospace\">┏━━━━━━━━━━━━━━━━━━━━━━━━━━━━━━━━━━━━━━┳━━━━━━━━━━━━━━━━━━━━━━━━━━━━━┳━━━━━━━━━━━━━━━━━┓\n",
              "┃<span style=\"font-weight: bold\"> Layer (type)                         </span>┃<span style=\"font-weight: bold\"> Output Shape                </span>┃<span style=\"font-weight: bold\">         Param # </span>┃\n",
              "┡━━━━━━━━━━━━━━━━━━━━━━━━━━━━━━━━━━━━━━╇━━━━━━━━━━━━━━━━━━━━━━━━━━━━━╇━━━━━━━━━━━━━━━━━┩\n",
              "│ input_layer (<span style=\"color: #0087ff; text-decoration-color: #0087ff\">InputLayer</span>)             │ (<span style=\"color: #00d7ff; text-decoration-color: #00d7ff\">None</span>, <span style=\"color: #00af00; text-decoration-color: #00af00\">224</span>, <span style=\"color: #00af00; text-decoration-color: #00af00\">224</span>, <span style=\"color: #00af00; text-decoration-color: #00af00\">3</span>)         │               <span style=\"color: #00af00; text-decoration-color: #00af00\">0</span> │\n",
              "├──────────────────────────────────────┼─────────────────────────────┼─────────────────┤\n",
              "│ efficientnetb0 (<span style=\"color: #0087ff; text-decoration-color: #0087ff\">Functional</span>)          │ (<span style=\"color: #00d7ff; text-decoration-color: #00d7ff\">None</span>, <span style=\"color: #00af00; text-decoration-color: #00af00\">7</span>, <span style=\"color: #00af00; text-decoration-color: #00af00\">7</span>, <span style=\"color: #00af00; text-decoration-color: #00af00\">1280</span>)          │       <span style=\"color: #00af00; text-decoration-color: #00af00\">4,049,571</span> │\n",
              "├──────────────────────────────────────┼─────────────────────────────┼─────────────────┤\n",
              "│ global_average_pooling2d             │ (<span style=\"color: #00d7ff; text-decoration-color: #00d7ff\">None</span>, <span style=\"color: #00af00; text-decoration-color: #00af00\">1280</span>)                │               <span style=\"color: #00af00; text-decoration-color: #00af00\">0</span> │\n",
              "│ (<span style=\"color: #0087ff; text-decoration-color: #0087ff\">GlobalAveragePooling2D</span>)             │                             │                 │\n",
              "├──────────────────────────────────────┼─────────────────────────────┼─────────────────┤\n",
              "│ dense (<span style=\"color: #0087ff; text-decoration-color: #0087ff\">Dense</span>)                        │ (<span style=\"color: #00d7ff; text-decoration-color: #00d7ff\">None</span>, <span style=\"color: #00af00; text-decoration-color: #00af00\">101</span>)                 │         <span style=\"color: #00af00; text-decoration-color: #00af00\">129,381</span> │\n",
              "├──────────────────────────────────────┼─────────────────────────────┼─────────────────┤\n",
              "│ cast_1 (<span style=\"color: #0087ff; text-decoration-color: #0087ff\">Cast</span>)                        │ (<span style=\"color: #00d7ff; text-decoration-color: #00d7ff\">None</span>, <span style=\"color: #00af00; text-decoration-color: #00af00\">101</span>)                 │               <span style=\"color: #00af00; text-decoration-color: #00af00\">0</span> │\n",
              "├──────────────────────────────────────┼─────────────────────────────┼─────────────────┤\n",
              "│ softmax_float32 (<span style=\"color: #0087ff; text-decoration-color: #0087ff\">Activation</span>)         │ (<span style=\"color: #00d7ff; text-decoration-color: #00d7ff\">None</span>, <span style=\"color: #00af00; text-decoration-color: #00af00\">101</span>)                 │               <span style=\"color: #00af00; text-decoration-color: #00af00\">0</span> │\n",
              "└──────────────────────────────────────┴─────────────────────────────┴─────────────────┘\n",
              "</pre>\n"
            ]
          },
          "metadata": {}
        },
        {
          "output_type": "display_data",
          "data": {
            "text/plain": [
              "\u001b[1m Total params: \u001b[0m\u001b[38;5;34m4,178,952\u001b[0m (15.94 MB)\n"
            ],
            "text/html": [
              "<pre style=\"white-space:pre;overflow-x:auto;line-height:normal;font-family:Menlo,'DejaVu Sans Mono',consolas,'Courier New',monospace\"><span style=\"font-weight: bold\"> Total params: </span><span style=\"color: #00af00; text-decoration-color: #00af00\">4,178,952</span> (15.94 MB)\n",
              "</pre>\n"
            ]
          },
          "metadata": {}
        },
        {
          "output_type": "display_data",
          "data": {
            "text/plain": [
              "\u001b[1m Trainable params: \u001b[0m\u001b[38;5;34m129,381\u001b[0m (505.39 KB)\n"
            ],
            "text/html": [
              "<pre style=\"white-space:pre;overflow-x:auto;line-height:normal;font-family:Menlo,'DejaVu Sans Mono',consolas,'Courier New',monospace\"><span style=\"font-weight: bold\"> Trainable params: </span><span style=\"color: #00af00; text-decoration-color: #00af00\">129,381</span> (505.39 KB)\n",
              "</pre>\n"
            ]
          },
          "metadata": {}
        },
        {
          "output_type": "display_data",
          "data": {
            "text/plain": [
              "\u001b[1m Non-trainable params: \u001b[0m\u001b[38;5;34m4,049,571\u001b[0m (15.45 MB)\n"
            ],
            "text/html": [
              "<pre style=\"white-space:pre;overflow-x:auto;line-height:normal;font-family:Menlo,'DejaVu Sans Mono',consolas,'Courier New',monospace\"><span style=\"font-weight: bold\"> Non-trainable params: </span><span style=\"color: #00af00; text-decoration-color: #00af00\">4,049,571</span> (15.45 MB)\n",
              "</pre>\n"
            ]
          },
          "metadata": {}
        }
      ]
    },
    {
      "cell_type": "markdown",
      "source": [
        "##Checking layers dtype policies"
      ],
      "metadata": {
        "id": "wH_WWLoLw-Ty"
      }
    },
    {
      "cell_type": "code",
      "source": [
        "# Check the dtype policy attributes\n",
        "for layers in model.layers:\n",
        "  print(layers.name, layers.trainable, layers.dtype, layers.dtype_policy)"
      ],
      "metadata": {
        "colab": {
          "base_uri": "https://localhost:8080/"
        },
        "id": "n5Weq-VJxzck",
        "outputId": "aa79c6bb-d22f-47ab-95a4-f731e2373e8e"
      },
      "execution_count": 33,
      "outputs": [
        {
          "output_type": "stream",
          "name": "stdout",
          "text": [
            "input_layer True float32 <DTypePolicy \"mixed_float16\">\n",
            "efficientnetb0 False float32 <DTypePolicy \"mixed_float16\">\n",
            "global_average_pooling2d True float32 <DTypePolicy \"mixed_float16\">\n",
            "dense True float32 <DTypePolicy \"mixed_float16\">\n",
            "softmax_float32 True float32 <DTypePolicy \"float32\">\n"
          ]
        }
      ]
    },
    {
      "cell_type": "markdown",
      "source": [
        "Going through above we see:\n",
        "* layers.name : name of layers\n",
        "* layers.trainable: layers is trainbale or not\n",
        "* layers.dtype: data type a layer stores its variables in\n",
        "* layers.dtype_policy : data type layer computes on its variables with"
      ],
      "metadata": {
        "id": "z5lINouvx_gx"
      }
    },
    {
      "cell_type": "code",
      "source": [
        "#  for base model layer\n",
        "for layer in base_model.layers:\n",
        "  print(layer.name, layer.trainable, layer.dtype, layer.dtype_policy)"
      ],
      "metadata": {
        "colab": {
          "base_uri": "https://localhost:8080/"
        },
        "id": "Vl0k8LarzZWF",
        "outputId": "b3764841-cf9c-42cc-dd06-5076b89bdbb4"
      },
      "execution_count": 35,
      "outputs": [
        {
          "output_type": "stream",
          "name": "stdout",
          "text": [
            "input_layer False float32 <DTypePolicy \"mixed_float16\">\n",
            "rescaling False float32 <DTypePolicy \"mixed_float16\">\n",
            "normalization False float32 <DTypePolicy \"mixed_float16\">\n",
            "rescaling_1 False float32 <DTypePolicy \"mixed_float16\">\n",
            "stem_conv_pad False float32 <DTypePolicy \"mixed_float16\">\n",
            "stem_conv False float32 <DTypePolicy \"mixed_float16\">\n",
            "stem_bn False float32 <DTypePolicy \"mixed_float16\">\n",
            "stem_activation False float32 <DTypePolicy \"mixed_float16\">\n",
            "block1a_dwconv False float32 <DTypePolicy \"mixed_float16\">\n",
            "block1a_bn False float32 <DTypePolicy \"mixed_float16\">\n",
            "block1a_activation False float32 <DTypePolicy \"mixed_float16\">\n",
            "block1a_se_squeeze False float32 <DTypePolicy \"mixed_float16\">\n",
            "block1a_se_reshape False float32 <DTypePolicy \"mixed_float16\">\n",
            "block1a_se_reduce False float32 <DTypePolicy \"mixed_float16\">\n",
            "block1a_se_expand False float32 <DTypePolicy \"mixed_float16\">\n",
            "block1a_se_excite False float32 <DTypePolicy \"mixed_float16\">\n",
            "block1a_project_conv False float32 <DTypePolicy \"mixed_float16\">\n",
            "block1a_project_bn False float32 <DTypePolicy \"mixed_float16\">\n",
            "block2a_expand_conv False float32 <DTypePolicy \"mixed_float16\">\n",
            "block2a_expand_bn False float32 <DTypePolicy \"mixed_float16\">\n",
            "block2a_expand_activation False float32 <DTypePolicy \"mixed_float16\">\n",
            "block2a_dwconv_pad False float32 <DTypePolicy \"mixed_float16\">\n",
            "block2a_dwconv False float32 <DTypePolicy \"mixed_float16\">\n",
            "block2a_bn False float32 <DTypePolicy \"mixed_float16\">\n",
            "block2a_activation False float32 <DTypePolicy \"mixed_float16\">\n",
            "block2a_se_squeeze False float32 <DTypePolicy \"mixed_float16\">\n",
            "block2a_se_reshape False float32 <DTypePolicy \"mixed_float16\">\n",
            "block2a_se_reduce False float32 <DTypePolicy \"mixed_float16\">\n",
            "block2a_se_expand False float32 <DTypePolicy \"mixed_float16\">\n",
            "block2a_se_excite False float32 <DTypePolicy \"mixed_float16\">\n",
            "block2a_project_conv False float32 <DTypePolicy \"mixed_float16\">\n",
            "block2a_project_bn False float32 <DTypePolicy \"mixed_float16\">\n",
            "block2b_expand_conv False float32 <DTypePolicy \"mixed_float16\">\n",
            "block2b_expand_bn False float32 <DTypePolicy \"mixed_float16\">\n",
            "block2b_expand_activation False float32 <DTypePolicy \"mixed_float16\">\n",
            "block2b_dwconv False float32 <DTypePolicy \"mixed_float16\">\n",
            "block2b_bn False float32 <DTypePolicy \"mixed_float16\">\n",
            "block2b_activation False float32 <DTypePolicy \"mixed_float16\">\n",
            "block2b_se_squeeze False float32 <DTypePolicy \"mixed_float16\">\n",
            "block2b_se_reshape False float32 <DTypePolicy \"mixed_float16\">\n",
            "block2b_se_reduce False float32 <DTypePolicy \"mixed_float16\">\n",
            "block2b_se_expand False float32 <DTypePolicy \"mixed_float16\">\n",
            "block2b_se_excite False float32 <DTypePolicy \"mixed_float16\">\n",
            "block2b_project_conv False float32 <DTypePolicy \"mixed_float16\">\n",
            "block2b_project_bn False float32 <DTypePolicy \"mixed_float16\">\n",
            "block2b_drop False float32 <DTypePolicy \"mixed_float16\">\n",
            "block2b_add False float32 <DTypePolicy \"mixed_float16\">\n",
            "block3a_expand_conv False float32 <DTypePolicy \"mixed_float16\">\n",
            "block3a_expand_bn False float32 <DTypePolicy \"mixed_float16\">\n",
            "block3a_expand_activation False float32 <DTypePolicy \"mixed_float16\">\n",
            "block3a_dwconv_pad False float32 <DTypePolicy \"mixed_float16\">\n",
            "block3a_dwconv False float32 <DTypePolicy \"mixed_float16\">\n",
            "block3a_bn False float32 <DTypePolicy \"mixed_float16\">\n",
            "block3a_activation False float32 <DTypePolicy \"mixed_float16\">\n",
            "block3a_se_squeeze False float32 <DTypePolicy \"mixed_float16\">\n",
            "block3a_se_reshape False float32 <DTypePolicy \"mixed_float16\">\n",
            "block3a_se_reduce False float32 <DTypePolicy \"mixed_float16\">\n",
            "block3a_se_expand False float32 <DTypePolicy \"mixed_float16\">\n",
            "block3a_se_excite False float32 <DTypePolicy \"mixed_float16\">\n",
            "block3a_project_conv False float32 <DTypePolicy \"mixed_float16\">\n",
            "block3a_project_bn False float32 <DTypePolicy \"mixed_float16\">\n",
            "block3b_expand_conv False float32 <DTypePolicy \"mixed_float16\">\n",
            "block3b_expand_bn False float32 <DTypePolicy \"mixed_float16\">\n",
            "block3b_expand_activation False float32 <DTypePolicy \"mixed_float16\">\n",
            "block3b_dwconv False float32 <DTypePolicy \"mixed_float16\">\n",
            "block3b_bn False float32 <DTypePolicy \"mixed_float16\">\n",
            "block3b_activation False float32 <DTypePolicy \"mixed_float16\">\n",
            "block3b_se_squeeze False float32 <DTypePolicy \"mixed_float16\">\n",
            "block3b_se_reshape False float32 <DTypePolicy \"mixed_float16\">\n",
            "block3b_se_reduce False float32 <DTypePolicy \"mixed_float16\">\n",
            "block3b_se_expand False float32 <DTypePolicy \"mixed_float16\">\n",
            "block3b_se_excite False float32 <DTypePolicy \"mixed_float16\">\n",
            "block3b_project_conv False float32 <DTypePolicy \"mixed_float16\">\n",
            "block3b_project_bn False float32 <DTypePolicy \"mixed_float16\">\n",
            "block3b_drop False float32 <DTypePolicy \"mixed_float16\">\n",
            "block3b_add False float32 <DTypePolicy \"mixed_float16\">\n",
            "block4a_expand_conv False float32 <DTypePolicy \"mixed_float16\">\n",
            "block4a_expand_bn False float32 <DTypePolicy \"mixed_float16\">\n",
            "block4a_expand_activation False float32 <DTypePolicy \"mixed_float16\">\n",
            "block4a_dwconv_pad False float32 <DTypePolicy \"mixed_float16\">\n",
            "block4a_dwconv False float32 <DTypePolicy \"mixed_float16\">\n",
            "block4a_bn False float32 <DTypePolicy \"mixed_float16\">\n",
            "block4a_activation False float32 <DTypePolicy \"mixed_float16\">\n",
            "block4a_se_squeeze False float32 <DTypePolicy \"mixed_float16\">\n",
            "block4a_se_reshape False float32 <DTypePolicy \"mixed_float16\">\n",
            "block4a_se_reduce False float32 <DTypePolicy \"mixed_float16\">\n",
            "block4a_se_expand False float32 <DTypePolicy \"mixed_float16\">\n",
            "block4a_se_excite False float32 <DTypePolicy \"mixed_float16\">\n",
            "block4a_project_conv False float32 <DTypePolicy \"mixed_float16\">\n",
            "block4a_project_bn False float32 <DTypePolicy \"mixed_float16\">\n",
            "block4b_expand_conv False float32 <DTypePolicy \"mixed_float16\">\n",
            "block4b_expand_bn False float32 <DTypePolicy \"mixed_float16\">\n",
            "block4b_expand_activation False float32 <DTypePolicy \"mixed_float16\">\n",
            "block4b_dwconv False float32 <DTypePolicy \"mixed_float16\">\n",
            "block4b_bn False float32 <DTypePolicy \"mixed_float16\">\n",
            "block4b_activation False float32 <DTypePolicy \"mixed_float16\">\n",
            "block4b_se_squeeze False float32 <DTypePolicy \"mixed_float16\">\n",
            "block4b_se_reshape False float32 <DTypePolicy \"mixed_float16\">\n",
            "block4b_se_reduce False float32 <DTypePolicy \"mixed_float16\">\n",
            "block4b_se_expand False float32 <DTypePolicy \"mixed_float16\">\n",
            "block4b_se_excite False float32 <DTypePolicy \"mixed_float16\">\n",
            "block4b_project_conv False float32 <DTypePolicy \"mixed_float16\">\n",
            "block4b_project_bn False float32 <DTypePolicy \"mixed_float16\">\n",
            "block4b_drop False float32 <DTypePolicy \"mixed_float16\">\n",
            "block4b_add False float32 <DTypePolicy \"mixed_float16\">\n",
            "block4c_expand_conv False float32 <DTypePolicy \"mixed_float16\">\n",
            "block4c_expand_bn False float32 <DTypePolicy \"mixed_float16\">\n",
            "block4c_expand_activation False float32 <DTypePolicy \"mixed_float16\">\n",
            "block4c_dwconv False float32 <DTypePolicy \"mixed_float16\">\n",
            "block4c_bn False float32 <DTypePolicy \"mixed_float16\">\n",
            "block4c_activation False float32 <DTypePolicy \"mixed_float16\">\n",
            "block4c_se_squeeze False float32 <DTypePolicy \"mixed_float16\">\n",
            "block4c_se_reshape False float32 <DTypePolicy \"mixed_float16\">\n",
            "block4c_se_reduce False float32 <DTypePolicy \"mixed_float16\">\n",
            "block4c_se_expand False float32 <DTypePolicy \"mixed_float16\">\n",
            "block4c_se_excite False float32 <DTypePolicy \"mixed_float16\">\n",
            "block4c_project_conv False float32 <DTypePolicy \"mixed_float16\">\n",
            "block4c_project_bn False float32 <DTypePolicy \"mixed_float16\">\n",
            "block4c_drop False float32 <DTypePolicy \"mixed_float16\">\n",
            "block4c_add False float32 <DTypePolicy \"mixed_float16\">\n",
            "block5a_expand_conv False float32 <DTypePolicy \"mixed_float16\">\n",
            "block5a_expand_bn False float32 <DTypePolicy \"mixed_float16\">\n",
            "block5a_expand_activation False float32 <DTypePolicy \"mixed_float16\">\n",
            "block5a_dwconv False float32 <DTypePolicy \"mixed_float16\">\n",
            "block5a_bn False float32 <DTypePolicy \"mixed_float16\">\n",
            "block5a_activation False float32 <DTypePolicy \"mixed_float16\">\n",
            "block5a_se_squeeze False float32 <DTypePolicy \"mixed_float16\">\n",
            "block5a_se_reshape False float32 <DTypePolicy \"mixed_float16\">\n",
            "block5a_se_reduce False float32 <DTypePolicy \"mixed_float16\">\n",
            "block5a_se_expand False float32 <DTypePolicy \"mixed_float16\">\n",
            "block5a_se_excite False float32 <DTypePolicy \"mixed_float16\">\n",
            "block5a_project_conv False float32 <DTypePolicy \"mixed_float16\">\n",
            "block5a_project_bn False float32 <DTypePolicy \"mixed_float16\">\n",
            "block5b_expand_conv False float32 <DTypePolicy \"mixed_float16\">\n",
            "block5b_expand_bn False float32 <DTypePolicy \"mixed_float16\">\n",
            "block5b_expand_activation False float32 <DTypePolicy \"mixed_float16\">\n",
            "block5b_dwconv False float32 <DTypePolicy \"mixed_float16\">\n",
            "block5b_bn False float32 <DTypePolicy \"mixed_float16\">\n",
            "block5b_activation False float32 <DTypePolicy \"mixed_float16\">\n",
            "block5b_se_squeeze False float32 <DTypePolicy \"mixed_float16\">\n",
            "block5b_se_reshape False float32 <DTypePolicy \"mixed_float16\">\n",
            "block5b_se_reduce False float32 <DTypePolicy \"mixed_float16\">\n",
            "block5b_se_expand False float32 <DTypePolicy \"mixed_float16\">\n",
            "block5b_se_excite False float32 <DTypePolicy \"mixed_float16\">\n",
            "block5b_project_conv False float32 <DTypePolicy \"mixed_float16\">\n",
            "block5b_project_bn False float32 <DTypePolicy \"mixed_float16\">\n",
            "block5b_drop False float32 <DTypePolicy \"mixed_float16\">\n",
            "block5b_add False float32 <DTypePolicy \"mixed_float16\">\n",
            "block5c_expand_conv False float32 <DTypePolicy \"mixed_float16\">\n",
            "block5c_expand_bn False float32 <DTypePolicy \"mixed_float16\">\n",
            "block5c_expand_activation False float32 <DTypePolicy \"mixed_float16\">\n",
            "block5c_dwconv False float32 <DTypePolicy \"mixed_float16\">\n",
            "block5c_bn False float32 <DTypePolicy \"mixed_float16\">\n",
            "block5c_activation False float32 <DTypePolicy \"mixed_float16\">\n",
            "block5c_se_squeeze False float32 <DTypePolicy \"mixed_float16\">\n",
            "block5c_se_reshape False float32 <DTypePolicy \"mixed_float16\">\n",
            "block5c_se_reduce False float32 <DTypePolicy \"mixed_float16\">\n",
            "block5c_se_expand False float32 <DTypePolicy \"mixed_float16\">\n",
            "block5c_se_excite False float32 <DTypePolicy \"mixed_float16\">\n",
            "block5c_project_conv False float32 <DTypePolicy \"mixed_float16\">\n",
            "block5c_project_bn False float32 <DTypePolicy \"mixed_float16\">\n",
            "block5c_drop False float32 <DTypePolicy \"mixed_float16\">\n",
            "block5c_add False float32 <DTypePolicy \"mixed_float16\">\n",
            "block6a_expand_conv False float32 <DTypePolicy \"mixed_float16\">\n",
            "block6a_expand_bn False float32 <DTypePolicy \"mixed_float16\">\n",
            "block6a_expand_activation False float32 <DTypePolicy \"mixed_float16\">\n",
            "block6a_dwconv_pad False float32 <DTypePolicy \"mixed_float16\">\n",
            "block6a_dwconv False float32 <DTypePolicy \"mixed_float16\">\n",
            "block6a_bn False float32 <DTypePolicy \"mixed_float16\">\n",
            "block6a_activation False float32 <DTypePolicy \"mixed_float16\">\n",
            "block6a_se_squeeze False float32 <DTypePolicy \"mixed_float16\">\n",
            "block6a_se_reshape False float32 <DTypePolicy \"mixed_float16\">\n",
            "block6a_se_reduce False float32 <DTypePolicy \"mixed_float16\">\n",
            "block6a_se_expand False float32 <DTypePolicy \"mixed_float16\">\n",
            "block6a_se_excite False float32 <DTypePolicy \"mixed_float16\">\n",
            "block6a_project_conv False float32 <DTypePolicy \"mixed_float16\">\n",
            "block6a_project_bn False float32 <DTypePolicy \"mixed_float16\">\n",
            "block6b_expand_conv False float32 <DTypePolicy \"mixed_float16\">\n",
            "block6b_expand_bn False float32 <DTypePolicy \"mixed_float16\">\n",
            "block6b_expand_activation False float32 <DTypePolicy \"mixed_float16\">\n",
            "block6b_dwconv False float32 <DTypePolicy \"mixed_float16\">\n",
            "block6b_bn False float32 <DTypePolicy \"mixed_float16\">\n",
            "block6b_activation False float32 <DTypePolicy \"mixed_float16\">\n",
            "block6b_se_squeeze False float32 <DTypePolicy \"mixed_float16\">\n",
            "block6b_se_reshape False float32 <DTypePolicy \"mixed_float16\">\n",
            "block6b_se_reduce False float32 <DTypePolicy \"mixed_float16\">\n",
            "block6b_se_expand False float32 <DTypePolicy \"mixed_float16\">\n",
            "block6b_se_excite False float32 <DTypePolicy \"mixed_float16\">\n",
            "block6b_project_conv False float32 <DTypePolicy \"mixed_float16\">\n",
            "block6b_project_bn False float32 <DTypePolicy \"mixed_float16\">\n",
            "block6b_drop False float32 <DTypePolicy \"mixed_float16\">\n",
            "block6b_add False float32 <DTypePolicy \"mixed_float16\">\n",
            "block6c_expand_conv False float32 <DTypePolicy \"mixed_float16\">\n",
            "block6c_expand_bn False float32 <DTypePolicy \"mixed_float16\">\n",
            "block6c_expand_activation False float32 <DTypePolicy \"mixed_float16\">\n",
            "block6c_dwconv False float32 <DTypePolicy \"mixed_float16\">\n",
            "block6c_bn False float32 <DTypePolicy \"mixed_float16\">\n",
            "block6c_activation False float32 <DTypePolicy \"mixed_float16\">\n",
            "block6c_se_squeeze False float32 <DTypePolicy \"mixed_float16\">\n",
            "block6c_se_reshape False float32 <DTypePolicy \"mixed_float16\">\n",
            "block6c_se_reduce False float32 <DTypePolicy \"mixed_float16\">\n",
            "block6c_se_expand False float32 <DTypePolicy \"mixed_float16\">\n",
            "block6c_se_excite False float32 <DTypePolicy \"mixed_float16\">\n",
            "block6c_project_conv False float32 <DTypePolicy \"mixed_float16\">\n",
            "block6c_project_bn False float32 <DTypePolicy \"mixed_float16\">\n",
            "block6c_drop False float32 <DTypePolicy \"mixed_float16\">\n",
            "block6c_add False float32 <DTypePolicy \"mixed_float16\">\n",
            "block6d_expand_conv False float32 <DTypePolicy \"mixed_float16\">\n",
            "block6d_expand_bn False float32 <DTypePolicy \"mixed_float16\">\n",
            "block6d_expand_activation False float32 <DTypePolicy \"mixed_float16\">\n",
            "block6d_dwconv False float32 <DTypePolicy \"mixed_float16\">\n",
            "block6d_bn False float32 <DTypePolicy \"mixed_float16\">\n",
            "block6d_activation False float32 <DTypePolicy \"mixed_float16\">\n",
            "block6d_se_squeeze False float32 <DTypePolicy \"mixed_float16\">\n",
            "block6d_se_reshape False float32 <DTypePolicy \"mixed_float16\">\n",
            "block6d_se_reduce False float32 <DTypePolicy \"mixed_float16\">\n",
            "block6d_se_expand False float32 <DTypePolicy \"mixed_float16\">\n",
            "block6d_se_excite False float32 <DTypePolicy \"mixed_float16\">\n",
            "block6d_project_conv False float32 <DTypePolicy \"mixed_float16\">\n",
            "block6d_project_bn False float32 <DTypePolicy \"mixed_float16\">\n",
            "block6d_drop False float32 <DTypePolicy \"mixed_float16\">\n",
            "block6d_add False float32 <DTypePolicy \"mixed_float16\">\n",
            "block7a_expand_conv False float32 <DTypePolicy \"mixed_float16\">\n",
            "block7a_expand_bn False float32 <DTypePolicy \"mixed_float16\">\n",
            "block7a_expand_activation False float32 <DTypePolicy \"mixed_float16\">\n",
            "block7a_dwconv False float32 <DTypePolicy \"mixed_float16\">\n",
            "block7a_bn False float32 <DTypePolicy \"mixed_float16\">\n",
            "block7a_activation False float32 <DTypePolicy \"mixed_float16\">\n",
            "block7a_se_squeeze False float32 <DTypePolicy \"mixed_float16\">\n",
            "block7a_se_reshape False float32 <DTypePolicy \"mixed_float16\">\n",
            "block7a_se_reduce False float32 <DTypePolicy \"mixed_float16\">\n",
            "block7a_se_expand False float32 <DTypePolicy \"mixed_float16\">\n",
            "block7a_se_excite False float32 <DTypePolicy \"mixed_float16\">\n",
            "block7a_project_conv False float32 <DTypePolicy \"mixed_float16\">\n",
            "block7a_project_bn False float32 <DTypePolicy \"mixed_float16\">\n",
            "top_conv False float32 <DTypePolicy \"mixed_float16\">\n",
            "top_bn False float32 <DTypePolicy \"mixed_float16\">\n",
            "top_activation False float32 <DTypePolicy \"mixed_float16\">\n"
          ]
        }
      ]
    },
    {
      "cell_type": "code",
      "source": [],
      "metadata": {
        "id": "ki_-kwfxzAV6"
      },
      "execution_count": null,
      "outputs": []
    }
  ]
}